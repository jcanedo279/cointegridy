{
 "cells": [
  {
   "cell_type": "code",
   "execution_count": 1,
   "metadata": {},
   "outputs": [
    {
     "ename": "ModuleNotFoundError",
     "evalue": "No module named 'VirtMart'",
     "output_type": "error",
     "traceback": [
      "\u001b[0;31m---------------------------------------------------------------------------\u001b[0m",
      "\u001b[0;31mModuleNotFoundError\u001b[0m                       Traceback (most recent call last)",
      "\u001b[0;32m<ipython-input-1-e1fe5e5da997>\u001b[0m in \u001b[0;36m<module>\u001b[0;34m()\u001b[0m\n\u001b[1;32m      4\u001b[0m \u001b[0;34m\u001b[0m\u001b[0m\n\u001b[1;32m      5\u001b[0m \u001b[0mget_ipython\u001b[0m\u001b[0;34m(\u001b[0m\u001b[0;34m)\u001b[0m\u001b[0;34m.\u001b[0m\u001b[0mrun_line_magic\u001b[0m\u001b[0;34m(\u001b[0m\u001b[0;34m'load_ext'\u001b[0m\u001b[0;34m,\u001b[0m \u001b[0;34m'autoreload'\u001b[0m\u001b[0;34m)\u001b[0m\u001b[0;34m\u001b[0m\u001b[0m\n\u001b[0;32m----> 6\u001b[0;31m \u001b[0mget_ipython\u001b[0m\u001b[0;34m(\u001b[0m\u001b[0;34m)\u001b[0m\u001b[0;34m.\u001b[0m\u001b[0mrun_line_magic\u001b[0m\u001b[0;34m(\u001b[0m\u001b[0;34m'aimport'\u001b[0m\u001b[0;34m,\u001b[0m \u001b[0;34m'processing, basket, coin, VirtMart'\u001b[0m\u001b[0;34m)\u001b[0m\u001b[0;34m\u001b[0m\u001b[0m\n\u001b[0m",
      "\u001b[0;32m~/anaconda3/lib/python3.6/site-packages/IPython/core/interactiveshell.py\u001b[0m in \u001b[0;36mrun_line_magic\u001b[0;34m(self, magic_name, line, _stack_depth)\u001b[0m\n\u001b[1;32m   2129\u001b[0m                 \u001b[0mkwargs\u001b[0m\u001b[0;34m[\u001b[0m\u001b[0;34m'local_ns'\u001b[0m\u001b[0;34m]\u001b[0m \u001b[0;34m=\u001b[0m \u001b[0msys\u001b[0m\u001b[0;34m.\u001b[0m\u001b[0m_getframe\u001b[0m\u001b[0;34m(\u001b[0m\u001b[0mstack_depth\u001b[0m\u001b[0;34m)\u001b[0m\u001b[0;34m.\u001b[0m\u001b[0mf_locals\u001b[0m\u001b[0;34m\u001b[0m\u001b[0m\n\u001b[1;32m   2130\u001b[0m             \u001b[0;32mwith\u001b[0m \u001b[0mself\u001b[0m\u001b[0;34m.\u001b[0m\u001b[0mbuiltin_trap\u001b[0m\u001b[0;34m:\u001b[0m\u001b[0;34m\u001b[0m\u001b[0m\n\u001b[0;32m-> 2131\u001b[0;31m                 \u001b[0mresult\u001b[0m \u001b[0;34m=\u001b[0m \u001b[0mfn\u001b[0m\u001b[0;34m(\u001b[0m\u001b[0;34m*\u001b[0m\u001b[0margs\u001b[0m\u001b[0;34m,\u001b[0m\u001b[0;34m**\u001b[0m\u001b[0mkwargs\u001b[0m\u001b[0;34m)\u001b[0m\u001b[0;34m\u001b[0m\u001b[0m\n\u001b[0m\u001b[1;32m   2132\u001b[0m             \u001b[0;32mreturn\u001b[0m \u001b[0mresult\u001b[0m\u001b[0;34m\u001b[0m\u001b[0m\n\u001b[1;32m   2133\u001b[0m \u001b[0;34m\u001b[0m\u001b[0m\n",
      "\u001b[0;32m<decorator-gen-126>\u001b[0m in \u001b[0;36maimport\u001b[0;34m(self, parameter_s, stream)\u001b[0m\n",
      "\u001b[0;32m~/anaconda3/lib/python3.6/site-packages/IPython/core/magic.py\u001b[0m in \u001b[0;36m<lambda>\u001b[0;34m(f, *a, **k)\u001b[0m\n\u001b[1;32m    185\u001b[0m     \u001b[0;31m# but it's overkill for just that one bit of state.\u001b[0m\u001b[0;34m\u001b[0m\u001b[0;34m\u001b[0m\u001b[0m\n\u001b[1;32m    186\u001b[0m     \u001b[0;32mdef\u001b[0m \u001b[0mmagic_deco\u001b[0m\u001b[0;34m(\u001b[0m\u001b[0marg\u001b[0m\u001b[0;34m)\u001b[0m\u001b[0;34m:\u001b[0m\u001b[0;34m\u001b[0m\u001b[0m\n\u001b[0;32m--> 187\u001b[0;31m         \u001b[0mcall\u001b[0m \u001b[0;34m=\u001b[0m \u001b[0;32mlambda\u001b[0m \u001b[0mf\u001b[0m\u001b[0;34m,\u001b[0m \u001b[0;34m*\u001b[0m\u001b[0ma\u001b[0m\u001b[0;34m,\u001b[0m \u001b[0;34m**\u001b[0m\u001b[0mk\u001b[0m\u001b[0;34m:\u001b[0m \u001b[0mf\u001b[0m\u001b[0;34m(\u001b[0m\u001b[0;34m*\u001b[0m\u001b[0ma\u001b[0m\u001b[0;34m,\u001b[0m \u001b[0;34m**\u001b[0m\u001b[0mk\u001b[0m\u001b[0;34m)\u001b[0m\u001b[0;34m\u001b[0m\u001b[0m\n\u001b[0m\u001b[1;32m    188\u001b[0m \u001b[0;34m\u001b[0m\u001b[0m\n\u001b[1;32m    189\u001b[0m         \u001b[0;32mif\u001b[0m \u001b[0mcallable\u001b[0m\u001b[0;34m(\u001b[0m\u001b[0marg\u001b[0m\u001b[0;34m)\u001b[0m\u001b[0;34m:\u001b[0m\u001b[0;34m\u001b[0m\u001b[0m\n",
      "\u001b[0;32m~/anaconda3/lib/python3.6/site-packages/IPython/extensions/autoreload.py\u001b[0m in \u001b[0;36maimport\u001b[0;34m(self, parameter_s, stream)\u001b[0m\n\u001b[1;32m    493\u001b[0m         \u001b[0;32melse\u001b[0m\u001b[0;34m:\u001b[0m\u001b[0;34m\u001b[0m\u001b[0m\n\u001b[1;32m    494\u001b[0m             \u001b[0;32mfor\u001b[0m \u001b[0m_module\u001b[0m \u001b[0;32min\u001b[0m \u001b[0;34m(\u001b[0m\u001b[0;34m[\u001b[0m\u001b[0m_\u001b[0m\u001b[0;34m.\u001b[0m\u001b[0mstrip\u001b[0m\u001b[0;34m(\u001b[0m\u001b[0;34m)\u001b[0m \u001b[0;32mfor\u001b[0m \u001b[0m_\u001b[0m \u001b[0;32min\u001b[0m \u001b[0mmodname\u001b[0m\u001b[0;34m.\u001b[0m\u001b[0msplit\u001b[0m\u001b[0;34m(\u001b[0m\u001b[0;34m','\u001b[0m\u001b[0;34m)\u001b[0m\u001b[0;34m]\u001b[0m\u001b[0;34m)\u001b[0m\u001b[0;34m:\u001b[0m\u001b[0;34m\u001b[0m\u001b[0m\n\u001b[0;32m--> 495\u001b[0;31m                 \u001b[0mtop_module\u001b[0m\u001b[0;34m,\u001b[0m \u001b[0mtop_name\u001b[0m \u001b[0;34m=\u001b[0m \u001b[0mself\u001b[0m\u001b[0;34m.\u001b[0m\u001b[0m_reloader\u001b[0m\u001b[0;34m.\u001b[0m\u001b[0maimport_module\u001b[0m\u001b[0;34m(\u001b[0m\u001b[0m_module\u001b[0m\u001b[0;34m)\u001b[0m\u001b[0;34m\u001b[0m\u001b[0m\n\u001b[0m\u001b[1;32m    496\u001b[0m \u001b[0;34m\u001b[0m\u001b[0m\n\u001b[1;32m    497\u001b[0m                 \u001b[0;31m# Inject module to user namespace\u001b[0m\u001b[0;34m\u001b[0m\u001b[0;34m\u001b[0m\u001b[0m\n",
      "\u001b[0;32m~/anaconda3/lib/python3.6/site-packages/IPython/extensions/autoreload.py\u001b[0m in \u001b[0;36maimport_module\u001b[0;34m(self, module_name)\u001b[0m\n\u001b[1;32m    176\u001b[0m         \u001b[0mself\u001b[0m\u001b[0;34m.\u001b[0m\u001b[0mmark_module_reloadable\u001b[0m\u001b[0;34m(\u001b[0m\u001b[0mmodule_name\u001b[0m\u001b[0;34m)\u001b[0m\u001b[0;34m\u001b[0m\u001b[0m\n\u001b[1;32m    177\u001b[0m \u001b[0;34m\u001b[0m\u001b[0m\n\u001b[0;32m--> 178\u001b[0;31m         \u001b[0mimport_module\u001b[0m\u001b[0;34m(\u001b[0m\u001b[0mmodule_name\u001b[0m\u001b[0;34m)\u001b[0m\u001b[0;34m\u001b[0m\u001b[0m\n\u001b[0m\u001b[1;32m    179\u001b[0m         \u001b[0mtop_name\u001b[0m \u001b[0;34m=\u001b[0m \u001b[0mmodule_name\u001b[0m\u001b[0;34m.\u001b[0m\u001b[0msplit\u001b[0m\u001b[0;34m(\u001b[0m\u001b[0;34m'.'\u001b[0m\u001b[0;34m)\u001b[0m\u001b[0;34m[\u001b[0m\u001b[0;36m0\u001b[0m\u001b[0;34m]\u001b[0m\u001b[0;34m\u001b[0m\u001b[0m\n\u001b[1;32m    180\u001b[0m         \u001b[0mtop_module\u001b[0m \u001b[0;34m=\u001b[0m \u001b[0msys\u001b[0m\u001b[0;34m.\u001b[0m\u001b[0mmodules\u001b[0m\u001b[0;34m[\u001b[0m\u001b[0mtop_name\u001b[0m\u001b[0;34m]\u001b[0m\u001b[0;34m\u001b[0m\u001b[0m\n",
      "\u001b[0;32m~/anaconda3/lib/python3.6/importlib/__init__.py\u001b[0m in \u001b[0;36mimport_module\u001b[0;34m(name, package)\u001b[0m\n\u001b[1;32m    124\u001b[0m                 \u001b[0;32mbreak\u001b[0m\u001b[0;34m\u001b[0m\u001b[0m\n\u001b[1;32m    125\u001b[0m             \u001b[0mlevel\u001b[0m \u001b[0;34m+=\u001b[0m \u001b[0;36m1\u001b[0m\u001b[0;34m\u001b[0m\u001b[0m\n\u001b[0;32m--> 126\u001b[0;31m     \u001b[0;32mreturn\u001b[0m \u001b[0m_bootstrap\u001b[0m\u001b[0;34m.\u001b[0m\u001b[0m_gcd_import\u001b[0m\u001b[0;34m(\u001b[0m\u001b[0mname\u001b[0m\u001b[0;34m[\u001b[0m\u001b[0mlevel\u001b[0m\u001b[0;34m:\u001b[0m\u001b[0;34m]\u001b[0m\u001b[0;34m,\u001b[0m \u001b[0mpackage\u001b[0m\u001b[0;34m,\u001b[0m \u001b[0mlevel\u001b[0m\u001b[0;34m)\u001b[0m\u001b[0;34m\u001b[0m\u001b[0m\n\u001b[0m\u001b[1;32m    127\u001b[0m \u001b[0;34m\u001b[0m\u001b[0m\n\u001b[1;32m    128\u001b[0m \u001b[0;34m\u001b[0m\u001b[0m\n",
      "\u001b[0;32m~/anaconda3/lib/python3.6/importlib/_bootstrap.py\u001b[0m in \u001b[0;36m_gcd_import\u001b[0;34m(name, package, level)\u001b[0m\n",
      "\u001b[0;32m~/anaconda3/lib/python3.6/importlib/_bootstrap.py\u001b[0m in \u001b[0;36m_find_and_load\u001b[0;34m(name, import_)\u001b[0m\n",
      "\u001b[0;32m~/anaconda3/lib/python3.6/importlib/_bootstrap.py\u001b[0m in \u001b[0;36m_find_and_load_unlocked\u001b[0;34m(name, import_)\u001b[0m\n",
      "\u001b[0;31mModuleNotFoundError\u001b[0m: No module named 'VirtMart'"
     ]
    }
   ],
   "source": [
    "## yikes idk how you would do this anymore\n",
    "import sys \n",
    "sys.path.insert(0, '../')\n",
    "\n",
    "%load_ext autoreload\n",
    "%aimport processing, basket, coin, VirtMart"
   ]
  },
  {
   "cell_type": "code",
   "execution_count": null,
   "metadata": {},
   "outputs": [],
   "source": [
    "%autoreload 1\n",
    "\n",
    "import pandas as pd\n",
    "import numpy as np\n",
    "\n",
    "import datetime\n",
    "from datetime import timezone\n",
    "import pytz\n",
    "import random\n",
    "\n",
    "from pycoingecko import CoinGeckoAPI\n",
    "\n",
    "from processing import Processor\n",
    "from basket import Basket\n",
    "from coin import Coin\n",
    "from CGProcessor import CGProcessor\n",
    "from bin import Statistics, Tests, Transforms\n",
    "\n",
    "import statsmodels.tsa.stattools as ts "
   ]
  },
  {
   "cell_type": "code",
   "execution_count": null,
   "metadata": {},
   "outputs": [],
   "source": [
    "# coin_list = cg.get_coins_list()\n",
    "\n",
    "# ids = [coin_data['id'] for coin_data in coin_list]\n",
    "\n",
    "# id_to_data = {}\n",
    "# for coin_data in coin_list:\n",
    "#     id_to_data[coin_data.pop('id')] = coin_data\n",
    "# ids = id_to_data.keys()"
   ]
  },
  {
   "cell_type": "code",
   "execution_count": null,
   "metadata": {},
   "outputs": [],
   "source": [
    "# COIN_COLS = ['id', 'symbol', 'name']\n",
    "# df_coin_names = pd.DataFrame(coin_list, columns=['name'])\n",
    "\n",
    "# coin_market = cg.get_coins_markets(vs_currency=NAT_CURR)\n",
    "# df_market = pd.DataFrame(coin_market, columns=['id', 'current_price', 'high_24h', 'low_24h'])\n",
    "# df_market.set_index('id', inplace=True)"
   ]
  },
  {
   "cell_type": "code",
   "execution_count": null,
   "metadata": {},
   "outputs": [],
   "source": [
    "###############\n",
    "## CONSTANTS ##\n",
    "###############\n",
    "\n",
    "NAT_TZ = 'America/Los_Angeles'\n",
    "NAT_TZOBJ = pytz.timezone(NAT_TZ)\n",
    "\n",
    "TRG_TZOBJ = timezone.utc\n",
    "\n",
    "PORT_IDS = ['bitcoin', 'bitcoin-cash', 'ethereum', 'litecoin']\n",
    "start_date, end_date = (2020,1,1), (2021,10,31)\n",
    "\n",
    "NAT_CURR = 'usd'\n",
    "\n",
    "LOOKBACKS = [7, 14, 30]\n",
    "ROLL_WIND = LOOKBACKS[1]"
   ]
  },
  {
   "cell_type": "code",
   "execution_count": null,
   "metadata": {},
   "outputs": [],
   "source": [
    "##################\n",
    "## LOCAL DRIVER ##\n",
    "##################\n",
    "\n",
    "cgp = CGProcessor()\n",
    "\n",
    "# Create portfolio dataframe\n",
    "port_val = cgp.create_portfolio(PORT_IDS, start_date, end_date)\n",
    "data = cgp.data\n",
    "\n",
    "cgp.normalize([], port=True)"
   ]
  },
  {
   "cell_type": "code",
   "execution_count": null,
   "metadata": {},
   "outputs": [],
   "source": [
    "display(data)"
   ]
  },
  {
   "cell_type": "markdown",
   "metadata": {},
   "source": [
    "# Tests\n",
    "Test cointegration of coin basket: {coins} = {c_1,...,c_n}\n",
    "ie. Check that the set {coins} is cointegrated using Engle-Granger two-step test\n",
    "This means there is some STATIONARY linear combination of {coins}\n",
    "\n",
    "<ol>\n",
    "    <li>Check that c_i is order-1 integrable</li>\n",
    "    <li>Create basket of coins, find linear regression.</li>\n",
    "    <li>Verify spread of basket is cointegrated.</li>\n",
    "    <li>Define strategy for basket trades.</li>\n",
    "</ol>\n",
    "\n",
    "#### Concerns\n",
    "<ul>\n",
    "    <li>Should we normalize data before running our regression?</li>\n",
    "</ul>\n",
    "\n",
    "#### Conclusions\n",
    "<ul>\n",
    "    <li>OLS and Linear Regression yield the same coefficients</li>\n",
    "    <li>While we usually assume stock data is I(1), it sometimes isn't (eg. Litecoin, BTC-Cash)</li>\n",
    "    <li>Normalization might help us find a regression line that does cointegrate the portfolio</li>\n",
    "    <li>We should run this test on different coins in different sized baskets.</li>\n",
    "</ul>"
   ]
  },
  {
   "cell_type": "code",
   "execution_count": null,
   "metadata": {},
   "outputs": [],
   "source": [
    "############\n",
    "## TEST 1 ##\n",
    "############\n",
    "\n",
    "# print(\"Normalizing...\")\n",
    "# scaler = MinMaxScaler()\n",
    "# scaler.fit(X, y)\n",
    "# X_scaled = scaler.transform(X) # TODO: Finish normalization\n",
    "# X_scaled = pd.DataFrame(X_scaled/X_scaled[0], index=X.index) \n",
    "# X_scaled.columns = X.columns\n",
    "\n",
    "print(\"Verifying coin price stationarity...\")\n",
    "coins = []\n",
    "for coin_name in data:\n",
    "    coin = Coin(coin_name)\n",
    "    result = coin.is_good(data[coin_name], start_date, end_date)\n",
    "    if result:\n",
    "        coins.append(coin)\n",
    "    else:\n",
    "        print(coin_name, \"is not I(1)\")\n",
    "\n",
    "print([coin.name_ for coin in coins], \" are stationary \\n\")\n",
    "        \n",
    "basket = Basket(coins, target='bitcoin', processor=cgp)\n",
    "basket.fit(data)\n",
    "spread = basket.find_spread(data)\n",
    "is_cointegrated = basket.is_coint(spread)\n",
    "print(\"\\n\")\n",
    "print(\"Cointegration test returned:\", is_cointegrated)\n",
    "\n",
    "short_entry, long_entry = basket.strat(spread)"
   ]
  },
  {
   "cell_type": "markdown",
   "metadata": {},
   "source": [
    "# Explore Exchanges on CoinGecko"
   ]
  },
  {
   "cell_type": "code",
   "execution_count": null,
   "metadata": {},
   "outputs": [],
   "source": [
    "exchanges = cgp.cg.get_exchanges_list()\n",
    "print(\"There are\", len(exchanges), \"exchanges.\")\n",
    "\n",
    "by_24hr_vol = sorted(exchanges, key=lambda d: d['trade_volume_24h_btc'], reverse=True) \n",
    "print(\"Top 3 by 24 trading volume:\", [exchange['id'] for exchange in by_24hr_vol[:3]])\n",
    "by_trust_score = sorted(exchanges, key=lambda d: d['trust_score_rank'])\n",
    "print(\"Top 3 by trust score:\", [exchange['id'] for exchange in by_trust_score[:3]])"
   ]
  },
  {
   "cell_type": "markdown",
   "metadata": {},
   "source": [
    "For now just use the highest 100 market cap coins on coingecko"
   ]
  },
  {
   "cell_type": "code",
   "execution_count": null,
   "metadata": {},
   "outputs": [],
   "source": [
    "COLS = ['id', 'current_price', 'high_24h', 'low_24h', 'market_cap', 'total_volume']\n",
    "\n",
    "coin_market = cgp.cg.get_coins_markets(vs_currency=NAT_CURR)\n",
    "df_market = pd.DataFrame(coin_market, columns=COLS)\n",
    "df_market.set_index('id', inplace=True)"
   ]
  },
  {
   "cell_type": "code",
   "execution_count": null,
   "metadata": {},
   "outputs": [],
   "source": [
    "df_market"
   ]
  },
  {
   "cell_type": "markdown",
   "metadata": {},
   "source": [
    "From binomial theorem there are $2^{100}$ baskets so we need to find a way of filtering.\n",
    "\n",
    "<b>There are also too many coins to pull all of them at once! We might have to create and host a database that contains updated data. We can pull around 50 or so coins at once.</b>\n",
    "\n",
    "### Strategy\n",
    "Take Pearson (Spearman?) correlation of dataframe to filter out some coins.\n",
    "\n",
    "Idea:\n",
    "We could train a model to take price data and try to spit out which coins are the most likely to be cointegrated. I think this could be some kind of "
   ]
  },
  {
   "cell_type": "code",
   "execution_count": null,
   "metadata": {},
   "outputs": [],
   "source": [
    "%%time\n",
    "# Create portfolio dataframe\n",
    "port_val = cgp.create_portfolio(df_market[:50].index, start_date, end_date)\n",
    "data = cgp.data\n",
    "# TODO: Write to CSV\n",
    "data"
   ]
  },
  {
   "cell_type": "code",
   "execution_count": null,
   "metadata": {},
   "outputs": [],
   "source": [
    "corr = data.corr()\n",
    "corr"
   ]
  },
  {
   "cell_type": "code",
   "execution_count": null,
   "metadata": {
    "scrolled": false
   },
   "outputs": [],
   "source": [
    "print(\"Verifying coin price stationarity...\")\n",
    "coins = []\n",
    "for coin_name in data:\n",
    "    coin = Coin(coin_name)\n",
    "    result = coin.is_good(data[coin_name], start_date, end_date)\n",
    "    if result:\n",
    "        coins.append(coin)\n",
    "    else:\n",
    "        print(coin_name, \"is not I(1)\")\n",
    "\n",
    "data = data[[coin.name_ for coin in coins]]\n",
    "print(list(data.columns), \" are stationary \\n\")"
   ]
  },
  {
   "cell_type": "code",
   "execution_count": null,
   "metadata": {},
   "outputs": [],
   "source": [
    "def test(results, coin_set, data, start_date=start_date, end_date=end_date):\n",
    "    try:\n",
    "        cgp = CGProcessor()\n",
    "        coin_names = [coin.name_ for coin in coin_set]\n",
    "\n",
    "        print(\"Testing cointegration for\", coin_names)\n",
    "\n",
    "        # Create portfolio dataframe\n",
    "        basket_data = data[coin_names]\n",
    "\n",
    "        print(\"Verifying coin price stationarity... \\n\")\n",
    "        coins = []\n",
    "        for coin_name in basket_data:\n",
    "            coin = Coin(coin_name)\n",
    "            result = coin.is_good(basket_data[coin_name], start_date, end_date)\n",
    "            if not result:\n",
    "                print(coin_name, \"is not I(1), scratching basket.\")\n",
    "                continue\n",
    "            coins.append(coin)\n",
    "\n",
    "        target = coin_names[0]\n",
    "        basket = Basket(coins, target=target, processor=cgp)\n",
    "        basket.fit(basket_data)\n",
    "        spread = basket.find_spread(basket_data)\n",
    "        is_cointegrated = basket.is_coint(spread)\n",
    "\n",
    "        results = ts.coint(basket_data[target], basket_data.drop([target], axis=1), return_results=True)\n",
    "\n",
    "        # Check that statsmodels cointegration test also passes\n",
    "        t_stat = results[0]\n",
    "        t_crit = results[2][0]\n",
    "\n",
    "        print(t_stat, t_crit)         \n",
    "\n",
    "        if t_stat >= t_crit:\n",
    "            print(\"Did not pass statsmodels test.\")\n",
    "            is_cointegrated = False\n",
    "\n",
    "        print(\"\\n\")\n",
    "        print(\"Cointegration test returned:\", is_cointegrated)\n",
    "\n",
    "        if is_cointegrated:\n",
    "            results.add(tuple([basket, results[0]]))\n",
    "        \n",
    "        return results\n",
    "    \n",
    "    except Exception as e:\n",
    "        print(e)"
   ]
  },
  {
   "cell_type": "code",
   "execution_count": null,
   "metadata": {},
   "outputs": [],
   "source": [
    "# Fixed Random Sampler\n",
    "# num_baskets = 10\n",
    "# potential_sets = dict()\n",
    "\n",
    "# for basket_size in range(2, 10):\n",
    "#     print(\"Creating baskets of size\", basket_size)\n",
    "#     potential_sets_sample = set()\n",
    "#     tries = 0\n",
    "#     while len(potential_sets_sample) < num_baskets:\n",
    "#         potential_sets_sample.add(tuple(sorted(random.sample(coins, basket_size))))\n",
    "#         tries += 1\n",
    "#     potential_sets[basket_size] = potential_sets_sample\n",
    "\n",
    "# Monte Carlo for the boys\n",
    "# For now just use it to find cointegrated baskets\n",
    "# Goal: \n",
    "# 1) Randomly sample to find cointegrated basket\n",
    "# 2) When you do, backtest it against some metric (like PnL)\n",
    "# 3) Stash results\n",
    "# 4) Use this to create profit expectation\n",
    "def simulate(data, n_trials):\n",
    "    basket_sizes = range(2, 7)\n",
    "    cointegrated = dict()\n",
    "    for i in basket_sizes:\n",
    "        cointegrated[i] = set()\n",
    "    display(cointegrated)\n",
    "    for _ in range(n_trials):\n",
    "        basket_size = random.sample(basket_sizes, 1)[0]\n",
    "        coin_set = random.sample(coins, basket_size)\n",
    "        cointegrated[basket_size] = test(cointegrated[basket_size], coin_set, data)\n",
    "        display(cointegrated)\n",
    "    display(cointegrated)\n",
    "    return cointegrated"
   ]
  },
  {
   "cell_type": "code",
   "execution_count": null,
   "metadata": {
    "scrolled": false
   },
   "outputs": [],
   "source": [
    "from IPython.utils import io\n",
    "\n",
    "with io.capture_output() as captured:\n",
    "    cointegrated = simulate(data, 100)"
   ]
  },
  {
   "cell_type": "code",
   "execution_count": null,
   "metadata": {
    "scrolled": true
   },
   "outputs": [],
   "source": [
    "cointegrated"
   ]
  },
  {
   "cell_type": "code",
   "execution_count": null,
   "metadata": {
    "scrolled": false
   },
   "outputs": [],
   "source": [
    "for basket in cointegrated:\n",
    "    print(\"Stat:\", basket[1])\n",
    "    basket = basket[0]\n",
    "    spread = basket.find_spread(data[[c.name_ for c in basket.coins_]])\n",
    "    print(np.where(spread > 3*basket.std_, True, False).sum())\n",
    "    basket.strat(spread)"
   ]
  },
  {
   "cell_type": "code",
   "execution_count": null,
   "metadata": {},
   "outputs": [],
   "source": []
  }
 ],
 "metadata": {
  "interpreter": {
   "hash": "aaa6305711bb90ca340e516a5eb2466be43fc01d5a7bfd481395fbcaefa2acec"
  },
  "kernelspec": {
   "display_name": "Python 3",
   "language": "python",
   "name": "python3"
  },
  "language_info": {
   "codemirror_mode": {
    "name": "ipython",
    "version": 3
   },
   "file_extension": ".py",
   "mimetype": "text/x-python",
   "name": "python",
   "nbconvert_exporter": "python",
   "pygments_lexer": "ipython3",
   "version": "3.6.5"
  }
 },
 "nbformat": 4,
 "nbformat_minor": 2
}
