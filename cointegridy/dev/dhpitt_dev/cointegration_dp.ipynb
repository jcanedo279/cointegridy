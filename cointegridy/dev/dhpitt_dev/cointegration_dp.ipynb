{
 "cells": [
  {
   "cell_type": "code",
   "execution_count": null,
   "metadata": {},
   "outputs": [],
   "source": [
    "## yikes idk how you would do this anymore\n",
    "# %load_ext autoreload\n",
    "# %aimport processor, basket, coin\n",
    "# %matplotlib inline"
   ]
  },
  {
   "cell_type": "code",
   "execution_count": null,
   "metadata": {},
   "outputs": [],
   "source": [
    "%reload_ext autoreload"
   ]
  },
  {
   "cell_type": "code",
   "execution_count": 3,
   "metadata": {},
   "outputs": [
    {
     "ename": "ImportError",
     "evalue": "cannot import name 'DataLoader' from 'cointegridy.src.classes.data_loader' (/Users/jorgecanedo/Desktop/cointegridy/cointegridy/src/classes/data_loader.py)",
     "output_type": "error",
     "traceback": [
      "\u001b[0;31m---------------------------------------------------------------------------\u001b[0m",
      "\u001b[0;31mImportError\u001b[0m                               Traceback (most recent call last)",
      "\u001b[0;32m/var/folders/my/m2b90dwj1yb4_vx37kp75lq40000gn/T/ipykernel_23659/1183908044.py\u001b[0m in \u001b[0;36m<module>\u001b[0;34m\u001b[0m\n\u001b[1;32m     12\u001b[0m \u001b[0;34m\u001b[0m\u001b[0m\n\u001b[1;32m     13\u001b[0m \u001b[0;32mfrom\u001b[0m \u001b[0mcointegridy\u001b[0m\u001b[0;34m.\u001b[0m\u001b[0msrc\u001b[0m\u001b[0;34m.\u001b[0m\u001b[0mclasses\u001b[0m\u001b[0;34m.\u001b[0m\u001b[0mprocessor\u001b[0m \u001b[0;32mimport\u001b[0m \u001b[0mProcessor\u001b[0m\u001b[0;34m\u001b[0m\u001b[0;34m\u001b[0m\u001b[0m\n\u001b[0;32m---> 14\u001b[0;31m \u001b[0;32mfrom\u001b[0m \u001b[0mcointegridy\u001b[0m\u001b[0;34m.\u001b[0m\u001b[0msrc\u001b[0m\u001b[0;34m.\u001b[0m\u001b[0mclasses\u001b[0m\u001b[0;34m.\u001b[0m\u001b[0mbasket\u001b[0m \u001b[0;32mimport\u001b[0m \u001b[0mBasket\u001b[0m\u001b[0;34m\u001b[0m\u001b[0;34m\u001b[0m\u001b[0m\n\u001b[0m\u001b[1;32m     15\u001b[0m \u001b[0;32mfrom\u001b[0m \u001b[0mcointegridy\u001b[0m\u001b[0;34m.\u001b[0m\u001b[0msrc\u001b[0m\u001b[0;34m.\u001b[0m\u001b[0mclasses\u001b[0m\u001b[0;34m.\u001b[0m\u001b[0mcoin\u001b[0m \u001b[0;32mimport\u001b[0m \u001b[0mCoin\u001b[0m\u001b[0;34m\u001b[0m\u001b[0;34m\u001b[0m\u001b[0m\n\u001b[1;32m     16\u001b[0m \u001b[0msys\u001b[0m\u001b[0;34m.\u001b[0m\u001b[0mpath\u001b[0m\u001b[0;34m.\u001b[0m\u001b[0mpop\u001b[0m\u001b[0;34m(\u001b[0m\u001b[0;36m0\u001b[0m\u001b[0;34m)\u001b[0m\u001b[0;34m\u001b[0m\u001b[0;34m\u001b[0m\u001b[0m\n",
      "\u001b[0;32m~/Desktop/cointegridy/cointegridy/src/classes/basket.py\u001b[0m in \u001b[0;36m<module>\u001b[0;34m\u001b[0m\n\u001b[1;32m     43\u001b[0m \u001b[0;34m\u001b[0m\u001b[0m\n\u001b[1;32m     44\u001b[0m \u001b[0;31m# Custom Imports\u001b[0m\u001b[0;34m\u001b[0m\u001b[0;34m\u001b[0m\u001b[0m\n\u001b[0;32m---> 45\u001b[0;31m \u001b[0;32mfrom\u001b[0m \u001b[0mcointegridy\u001b[0m\u001b[0;34m.\u001b[0m\u001b[0msrc\u001b[0m\u001b[0;34m.\u001b[0m\u001b[0mclasses\u001b[0m\u001b[0;34m.\u001b[0m\u001b[0mdata_loader\u001b[0m \u001b[0;32mimport\u001b[0m \u001b[0mDataLoader\u001b[0m\u001b[0;34m\u001b[0m\u001b[0;34m\u001b[0m\u001b[0m\n\u001b[0m\u001b[1;32m     46\u001b[0m \u001b[0;32mfrom\u001b[0m \u001b[0mcointegridy\u001b[0m\u001b[0;34m.\u001b[0m\u001b[0msrc\u001b[0m\u001b[0;34m.\u001b[0m\u001b[0mclasses\u001b[0m\u001b[0;34m.\u001b[0m\u001b[0mcoin\u001b[0m \u001b[0;32mimport\u001b[0m \u001b[0mCoin\u001b[0m\u001b[0;34m\u001b[0m\u001b[0;34m\u001b[0m\u001b[0m\n\u001b[1;32m     47\u001b[0m \u001b[0;32mfrom\u001b[0m \u001b[0mcointegridy\u001b[0m\u001b[0;34m.\u001b[0m\u001b[0msrc\u001b[0m\u001b[0;34m.\u001b[0m\u001b[0mutils\u001b[0m \u001b[0;32mimport\u001b[0m \u001b[0mstats\u001b[0m \u001b[0;32mas\u001b[0m \u001b[0mstat\u001b[0m\u001b[0;34m\u001b[0m\u001b[0;34m\u001b[0m\u001b[0m\n",
      "\u001b[0;31mImportError\u001b[0m: cannot import name 'DataLoader' from 'cointegridy.src.classes.data_loader' (/Users/jorgecanedo/Desktop/cointegridy/cointegridy/src/classes/data_loader.py)"
     ]
    }
   ],
   "source": [
    "%autoreload 1\n",
    "import sys\n",
    "\n",
    "import pandas as pd\n",
    "import numpy as np\n",
    "\n",
    "import datetime\n",
    "from datetime import timezone\n",
    "import pytz\n",
    "\n",
    "from pycoingecko import CoinGeckoAPI\n",
    "\n",
    "from cointegridy.src.classes.processor import Processor\n",
    "from cointegridy.src.classes.basket import Basket\n",
    "from cointegridy.src.classes.coin import Coin\n",
    "sys.path.pop(0)\n",
    "# from bin import Statistics, Tests, Transforms, Utils\n",
    "import matplotlib.pyplot as plt\n",
    "\n"
   ]
  },
  {
   "cell_type": "code",
   "execution_count": null,
   "metadata": {},
   "outputs": [],
   "source": [
    "# coin_list = cg.get_coins_list()\n",
    "\n",
    "# ids = [coin_data['id'] for coin_data in coin_list]\n",
    "\n",
    "# id_to_data = {}\n",
    "# for coin_data in coin_list:\n",
    "#     id_to_data[coin_data.pop('id')] = coin_data\n",
    "# ids = id_to_data.keys()"
   ]
  },
  {
   "cell_type": "code",
   "execution_count": null,
   "metadata": {},
   "outputs": [],
   "source": [
    "# COIN_COLS = ['id', 'symbol', 'name']\n",
    "# df_coin_names = pd.DataFrame(coin_list, columns=['name'])\n",
    "\n",
    "# coin_market = cg.get_coins_markets(vs_currency=NAT_CURR)\n",
    "# df_market = pd.DataFrame(coin_market, columns=['id', 'current_price', 'high_24h', 'low_24h'])\n",
    "# df_market.set_index('id', inplace=True)"
   ]
  },
  {
   "cell_type": "code",
   "execution_count": null,
   "metadata": {},
   "outputs": [],
   "source": [
    "###############\n",
    "## CONSTANTS ##\n",
    "###############\n",
    "\n",
    "NAT_TZ = 'America/Los_Angeles'\n",
    "NAT_TZOBJ = pytz.timezone(NAT_TZ)\n",
    "\n",
    "TRG_TZOBJ = timezone.utc\n",
    "\n",
    "PORT_IDS = ['bitcoin', 'bitcoin-cash', 'ethereum', 'litecoin']\n",
    "start_date, end_date = (2020,1,1), (2021,10,31)\n",
    "\n",
    "NAT_CURR = 'usd'\n",
    "\n",
    "LOOKBACKS = [7, 14, 30]\n",
    "ROLL_WIND = LOOKBACKS[1]"
   ]
  },
  {
   "cell_type": "code",
   "execution_count": null,
   "metadata": {},
   "outputs": [],
   "source": [
    "##################\n",
    "## LOCAL DRIVER ##\n",
    "##################\n",
    "\n",
    "cgp = CGProcessor()\n",
    "\n",
    "# Create portfolio dataframe\n",
    "port_val = cgp.create_portfolio(PORT_IDS, start_date, end_date)\n",
    "data = cgp.data\n",
    "\n",
    "cgp.normalize([], port=True)"
   ]
  },
  {
   "cell_type": "code",
   "execution_count": null,
   "metadata": {},
   "outputs": [],
   "source": [
    "display(data)"
   ]
  },
  {
   "cell_type": "markdown",
   "metadata": {},
   "source": [
    "# Tests\n",
    "Test cointegration of coin basket: {coins} = {c_1,...,c_n}\n",
    "ie. Check that the set {coins} is cointegrated using Engle-Granger two-step test\n",
    "This means there is some STATIONARY linear combination of {coins}\n",
    "\n",
    "<ol>\n",
    "    <li>Check that c_i is order-1 integrable</li>\n",
    "    <li>Create basket of coins, find linear regression.</li>\n",
    "    <li>Verify spread of basket is cointegrated.</li>\n",
    "    <li>Define strategy for basket trades.</li>\n",
    "</ol>\n",
    "\n",
    "#### Concerns\n",
    "<ul>\n",
    "    <li>Should we normalize data before running our regression?</li>\n",
    "</ul>\n",
    "\n",
    "#### Conclusions\n",
    "<ul>\n",
    "    <li>OLS and Linear Regression yield the same coefficients</li>\n",
    "    <li>While we usually assume stock data is I(1), it sometimes isn't (eg. Litecoin, BTC-Cash)</li>\n",
    "    <li>Normalization might help us find a regression line that does cointegrate the portfolio</li>\n",
    "    <li>We should run this test on different coins in different sized baskets.</li>\n",
    "</ul>"
   ]
  },
  {
   "cell_type": "code",
   "execution_count": null,
   "metadata": {},
   "outputs": [],
   "source": [
    "############\n",
    "## TEST 1 ##\n",
    "############\n",
    "\n",
    "# print(\"Normalizing...\")\n",
    "# scaler = MinMaxScaler()\n",
    "# scaler.fit(X, y)\n",
    "# X_scaled = scaler.transform(X) # TODO: Finish normalization\n",
    "# X_scaled = pd.DataFrame(X_scaled/X_scaled[0], index=X.index) \n",
    "# X_scaled.columns = X.columns\n",
    "\n",
    "print(\"Verifying coin price stationarity...\")\n",
    "coins = []\n",
    "for coin_name in data:\n",
    "    coin = Coin(coin_name)\n",
    "    result = coin.is_good(data[coin_name], start_date, end_date)\n",
    "    if result:\n",
    "        coins.append(coin)\n",
    "    else:\n",
    "        print(coin_name, \"is not I(1)\")\n",
    "\n",
    "print([coin.name_ for coin in coins], \" are stationary \\n\")\n",
    "        \n",
    "basket = Basket(coins, target='bitcoin', processor=cgp)\n",
    "basket.fit(data)\n",
    "spread = basket.find_spread(data)\n",
    "is_cointegrated = basket.is_coint(spread)\n",
    "print(\"\\n\")\n",
    "print(\"Cointegration test returned:\", is_cointegrated)\n",
    "\n",
    "short_entry, long_entry = basket.strat(spread)"
   ]
  },
  {
   "cell_type": "code",
   "execution_count": null,
   "metadata": {},
   "outputs": [],
   "source": [
    "############\n",
    "## TEST 2 ##\n",
    "############\n",
    "\n",
    "# Create normalized timeseries for portfolio\n",
    "port_rm = cgp.roll_avg(ROLL_WIND)\n",
    "port_rm.name = f'{port_val.name}_RM'\n",
    "\n",
    "\n",
    "# IF a random variable is stationary THEN it is also order one integratable #\n",
    "\n",
    "port_ret = Transforms.integrate(port_rm)\n",
    "\n",
    "comparator = port_ret + np.random.normal(0, 5, len(port_ret))\n",
    "\n",
    "# These two series should be stationary and cointegrate\n",
    "# TODO: This needs to be standardized as a basket, then \n",
    "# coint_res = Tests.is_coint(port_ret, comparator)\n",
    "#print(coint_res)"
   ]
  },
  {
   "cell_type": "markdown",
   "metadata": {},
   "source": [
    "### Testing cointegration of crypto basket\n",
    "Test cointegration of coin basket: {coins} = {c_1,...,c_n}\n",
    "ie. Check that the set {coins} is cointegrated using Engle-Granger two-step test\n",
    "This means there is some STATIONARY linear combination of {coins}\n",
    "\n",
    "<ol>\n",
    "    <li>Check that c_i is order-1 integrable</li>\n",
    "    <li>Create basket of coins, find linear regression.</li>\n",
    "    <li>Verify spread of basket is cointegrated.</li>\n",
    "    <li>Define strategy for basket trades.</li>\n",
    "</ol>\n",
    "\n",
    "#### Concerns\n",
    "<ul>\n",
    "    <li>Should we normalize data before running our regression?</li>\n",
    "</ul>\n",
    "\n",
    "#### Conclusions\n",
    "<ul>\n",
    "    <li>OLS and Linear Regression yield the same coefficients</li>\n",
    "    <li>While we usually assume stock data is I(1), it sometimes isn't (eg. Litecoin, BTC-Cash)</li>\n",
    "    <li>Normalization might help us find a regression line that does cointegrate the portfolio</li>\n",
    "    <li>We should run this test on different coins in different sized baskets.</li>\n",
    "</ul>"
   ]
  },
  {
   "cell_type": "code",
   "execution_count": null,
   "metadata": {},
   "outputs": [],
   "source": [
    "############\n",
    "## TEST 3 ##\n",
    "############\n",
    "\n",
    "d_1, d_2 = CGProcessor.id_to_prices(cgp.cg, PORT_IDS[0], start_date, end_date), CGProcessor.id_to_prices(cgp.cg, PORT_IDS[1], start_date, end_date)\n",
    "s_1, s_2 = pd.Series(d_1), pd.Series(d_2)\n",
    "s_1.name, s_2.name = PORT_IDS[0], PORT_IDS[1]\n",
    "\n",
    "# Random two series likely should not be stationary\n",
    "coint_res = Tests.is_coint(s_1, s_2)\n",
    "print(coint_res)"
   ]
  },
  {
   "cell_type": "code",
   "execution_count": null,
   "metadata": {},
   "outputs": [],
   "source": [
    "cgp.take_mean(s_1)\n",
    "df_feats = cgp.series_to_df_feats(s_1, LOOKBACKS, plot=True)\n",
    "\n",
    "print(Statistics.sharpe_ratio(df_feats[f'{s_1.name}_DR']))\n"
   ]
  },
  {
   "cell_type": "markdown",
   "metadata": {},
   "source": [
    "# Explore Exchanges on CoinGecko"
   ]
  },
  {
   "cell_type": "code",
   "execution_count": null,
   "metadata": {},
   "outputs": [],
   "source": [
    "exchanges = cgp.cg.get_exchanges_list()\n",
    "print(\"There are\", len(exchanges), \"exchanges.\")\n",
    "\n",
    "by_24hr_vol = sorted(exchanges, key=lambda d: d['trade_volume_24h_btc'], reverse=True) \n",
    "print(\"Top 3 by 24 trading volume:\", [exchange['id'] for exchange in by_24hr_vol[:3]])\n",
    "by_trust_score = sorted(exchanges, key=lambda d: d['trust_score_rank'])\n",
    "print(\"Top 3 by trust score:\", [exchange['id'] for exchange in by_trust_score[:3]])"
   ]
  },
  {
   "cell_type": "markdown",
   "metadata": {},
   "source": [
    "For now just use the highest 100 market cap coins on coingecko"
   ]
  },
  {
   "cell_type": "code",
   "execution_count": null,
   "metadata": {},
   "outputs": [],
   "source": [
    "COLS = ['id', 'current_price', 'high_24h', 'low_24h', 'market_cap', 'total_volume']\n",
    "\n",
    "coin_market = cgp.cg.get_coins_markets(vs_currency=NAT_CURR)\n",
    "df_market = pd.DataFrame(coin_market, columns=COLS)\n",
    "df_market.set_index('id', inplace=True)"
   ]
  },
  {
   "cell_type": "code",
   "execution_count": null,
   "metadata": {},
   "outputs": [],
   "source": [
    "df_market"
   ]
  },
  {
   "cell_type": "markdown",
   "metadata": {},
   "source": [
    "From binomial theorem there are $2^{100}$ baskets so we need to find a way of filtering.\n",
    "\n",
    "<b>There are also too many coins to pull all of them at once! We might have to create and host a database that contains updated data. We can pull around 50 or so coins at once.</b>\n",
    "\n",
    "### Strategy\n",
    "Take Pearson (Spearman?) correlation of dataframe to filter out some coins.\n",
    "\n",
    "Idea:\n",
    "We could train a model to take price data and try to spit out which coins are the most likely to be cointegrated. I think this could be some kind of "
   ]
  },
  {
   "cell_type": "code",
   "execution_count": null,
   "metadata": {},
   "outputs": [],
   "source": [
    "# Create portfolio dataframe\n",
    "port_val = cgp.create_portfolio(df_market[:50].index, start_date, end_date)\n",
    "data = cgp.data\n",
    "# Write to CSV"
   ]
  },
  {
   "cell_type": "code",
   "execution_count": null,
   "metadata": {},
   "outputs": [],
   "source": [
    "corr = data.corr()\n",
    "valid = []\n"
   ]
  },
  {
   "cell_type": "code",
   "execution_count": null,
   "metadata": {},
   "outputs": [],
   "source": [
    "# FOR GRAPHMASTER: What if we do what you said about constructing a graph with coins as \n",
    "# nodes and edges are pairwise correlation to find which coins are most important to\n",
    "# test first? Could we use a GNN?\n"
   ]
  },
  {
   "cell_type": "code",
   "execution_count": null,
   "metadata": {},
   "outputs": [],
   "source": [
    "\n",
    "print(\"Verifying coin price stationarity...\")\n",
    "coins = []\n",
    "for coin_name in data:\n",
    "    coin = Coin(coin_name)\n",
    "    result = coin.is_good(data[coin_name], start_date, end_date)\n",
    "    if result:\n",
    "        coins.append(coin)\n",
    "    else:\n",
    "        print(coin_name, \"is not I(1)\")\n",
    "\n",
    "print([coin.name_ for coin in coins], \" are stationary \\n\")\n",
    "\n"
   ]
  },
  {
   "cell_type": "code",
   "execution_count": null,
   "metadata": {},
   "outputs": [],
   "source": [
    "coinNames = [coin.name_ for coin in coins]\n",
    "\n",
    "df = data[coinNames].corr().abs()\n",
    "\n",
    "corrList = df.values.flatten()"
   ]
  },
  {
   "cell_type": "code",
   "execution_count": null,
   "metadata": {},
   "outputs": [],
   "source": [
    "plt.hist(corrList,bins=40)"
   ]
  },
  {
   "cell_type": "code",
   "execution_count": null,
   "metadata": {},
   "outputs": [],
   "source": [
    "df.values[tuple([np.arange(df.shape[0])])*2] = 0"
   ]
  },
  {
   "cell_type": "code",
   "execution_count": null,
   "metadata": {},
   "outputs": [],
   "source": [
    "df"
   ]
  },
  {
   "cell_type": "code",
   "execution_count": null,
   "metadata": {},
   "outputs": [],
   "source": [
    "plt.hist(df.values.flatten(),bins=40)"
   ]
  },
  {
   "cell_type": "code",
   "execution_count": null,
   "metadata": {},
   "outputs": [],
   "source": [
    "def sigNormalizer(x):\n",
    "    if x == 0:\n",
    "        return 0\n",
    "    \n",
    "    return Utils.sigmoid((2*(x-1/2)))"
   ]
  },
  {
   "cell_type": "markdown",
   "metadata": {},
   "source": [
    "My goal is to create a distribution with more extreme values and less good choices. Here's an example plot of what the sigmoid does:"
   ]
  },
  {
   "cell_type": "code",
   "execution_count": null,
   "metadata": {},
   "outputs": [],
   "source": [
    "t = np.linspace(-10,10)\n",
    "\n",
    "plt.plot(t,[sigNormalizer(k) for k in t])\n",
    "print(Utils.sigmoid(10))"
   ]
  },
  {
   "cell_type": "code",
   "execution_count": null,
   "metadata": {},
   "outputs": [],
   "source": [
    "df2 = df.copy()\n",
    "display(df2)\n",
    "df2 = df2.applymap(sigNormalizer)\n",
    "#for c in df2.keys():\n",
    "    #df2[c].map(lambda x: np.log(Utils.sigmoid(x+10)))"
   ]
  },
  {
   "cell_type": "code",
   "execution_count": null,
   "metadata": {},
   "outputs": [],
   "source": [
    "df2"
   ]
  },
  {
   "cell_type": "code",
   "execution_count": null,
   "metadata": {},
   "outputs": [],
   "source": [
    "plt.hist(df2.values.flatten(),bins=40)"
   ]
  },
  {
   "cell_type": "markdown",
   "metadata": {},
   "source": [
    "This is a better-looking distribution. This will come in handy later when we construct a graph.\n",
    "\n",
    "# The graph approach to coint search\n",
    "\n",
    "Construct a graph with coins as nodes and weighted edges representing correlation. The adjacency matrix will be df2 (activation function on absolute value of correlation).\n"
   ]
  },
  {
   "cell_type": "code",
   "execution_count": null,
   "metadata": {},
   "outputs": [],
   "source": [
    "# Find coins\n",
    "\n",
    "coinDict = {x.name_:i for i,x in enumerate(coins)}"
   ]
  },
  {
   "cell_type": "code",
   "execution_count": null,
   "metadata": {},
   "outputs": [],
   "source": [
    "coinDict"
   ]
  },
  {
   "cell_type": "code",
   "execution_count": null,
   "metadata": {},
   "outputs": [],
   "source": [
    "Utils.softmax(np.array([2,3,8,4]))"
   ]
  },
  {
   "cell_type": "code",
   "execution_count": null,
   "metadata": {},
   "outputs": [],
   "source": [
    "# Greedy approach: on the graph represented by the adj matrix DF2, we go to a node, find the most related node by Pearson corr, and repeat for basket size. \n",
    "\n",
    "def find_baskets_determ(size,numToFind):\n",
    "    coinList = coins.copy\n",
    "    baskets = []\n",
    "    temp = df2.copy()\n",
    "    firsts = {} # This is an array to remove redundancy.  \n",
    "    for _ in range(numToFind):\n",
    "        \n",
    "        bask = []\n",
    "        node = np.random.choice(coins).name_\n",
    "        for _ in range(size):\n",
    "            bask.append(node)\n",
    "            canGo = df[node].drop(labels=bask)\n",
    "            bestNeighbor = np.random.choice(canGo.index,p=Utils.softmax(df[node].drop(labels=bask).to_numpy()))\n",
    "            \n",
    "            #Utils.softmax(df[node].drop(labels=bask).to_numpy())\n",
    "            #.idxmax()\n",
    "            node = bestNeighbor\n",
    "        baskets.append(bask)\n",
    "    return list(set(baskets))\n",
    "            #temp.drop(node.name_,axis=0)\n",
    "            #temp.drop(node.name_,axis=1)\n",
    "\n"
   ]
  },
  {
   "cell_type": "code",
   "execution_count": null,
   "metadata": {},
   "outputs": [],
   "source": [
    "def find_baskets_determ(size,numToFind):\n",
    "    coinList = coins.copy\n",
    "    baskets = []\n",
    "    temp = df2.copy()\n",
    "    firsts = {} # This is an array to remove redundancy.  \n",
    "    for _ in range(numToFind):\n",
    "        \n",
    "        bask = []\n",
    "        node = np.random.choice(coins).name_\n",
    "        for _ in range(size):\n",
    "            bask.append(node)\n",
    "            bestNeighbor = df[node].drop(labels=bask).idxmax()\n",
    "            node = bestNeighbor\n",
    "        baskets.append(tuple(bask))\n",
    "    return list(set(baskets))\n",
    "            #temp.drop(node.name_,axis=0)\n",
    "            #temp.drop(node.name_,axis=1)"
   ]
  },
  {
   "cell_type": "code",
   "execution_count": null,
   "metadata": {},
   "outputs": [],
   "source": [
    "found_baskets = find_baskets_determ(5,60)\n",
    "found_baskets"
   ]
  },
  {
   "cell_type": "code",
   "execution_count": null,
   "metadata": {},
   "outputs": [],
   "source": [
    "master_list = []\n",
    "for bk in found_baskets:\n",
    "    bask = [coins[coinDict[x]] for x in bk]\n",
    "    print(bask)\n",
    "    basket = Basket(bask, target=bask[0].name_, processor=cgp)\n",
    "    print(f'Testing basket: {bask}')\n",
    "    basket.fit(data)\n",
    "    spread = basket.find_spread(data)\n",
    "    is_cointegrated = basket.is_coint(spread)\n",
    "    print(\"\\n\")\n",
    "    print(\"Cointegration test returned:\", is_cointegrated)\n",
    "    master_list.append([basket,is_cointegrated])"
   ]
  },
  {
   "cell_type": "code",
   "execution_count": null,
   "metadata": {},
   "outputs": [],
   "source": [
    "master_list"
   ]
  },
  {
   "cell_type": "code",
   "execution_count": null,
   "metadata": {},
   "outputs": [],
   "source": [
    "basket,isc = master_list[20]\n",
    "print([x.name_ for x in basket.coins_])\n",
    "short_entry, long_entry = basket.strat(spread)"
   ]
  },
  {
   "cell_type": "code",
   "execution_count": null,
   "metadata": {},
   "outputs": [],
   "source": [
    "data[coinNames]"
   ]
  },
  {
   "cell_type": "code",
   "execution_count": null,
   "metadata": {},
   "outputs": [],
   "source": [
    "Statistics.sharpe_ratio(data['cdai']/data.iloc[0,'cdai'])"
   ]
  },
  {
   "cell_type": "code",
   "execution_count": null,
   "metadata": {},
   "outputs": [],
   "source": [
    "data[coinNames]/(data.iloc[0,:]+0.00001)"
   ]
  },
  {
   "cell_type": "code",
   "execution_count": null,
   "metadata": {},
   "outputs": [],
   "source": [
    "data['binance-usd']"
   ]
  },
  {
   "cell_type": "code",
   "execution_count": null,
   "metadata": {},
   "outputs": [],
   "source": []
  }
 ],
 "metadata": {
  "interpreter": {
   "hash": "827e985310295d3d93142f23c010ded7d7eae575305703d106a09006798043ec"
  },
  "kernelspec": {
   "display_name": "Python 3.9.7 64-bit ('finml': conda)",
   "name": "python3"
  },
  "language_info": {
   "codemirror_mode": {
    "name": "ipython",
    "version": 3
   },
   "file_extension": ".py",
   "mimetype": "text/x-python",
   "name": "python",
   "nbconvert_exporter": "python",
   "pygments_lexer": "ipython3",
   "version": "3.9.8"
  }
 },
 "nbformat": 4,
 "nbformat_minor": 2
}
