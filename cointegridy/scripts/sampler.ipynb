{
 "cells": [
  {
   "cell_type": "code",
   "execution_count": 1,
   "metadata": {},
   "outputs": [],
   "source": [
    "%load_ext autoreload\n",
    "%matplotlib inline"
   ]
  },
  {
   "cell_type": "code",
   "execution_count": 18,
   "metadata": {},
   "outputs": [],
   "source": [
    "%autoreload 2\n",
    "\n",
    "# Custom imports\n",
    "from cointegridy.src.classes.sampler import Sampler\n",
    "from cointegridy.src.classes.data_loader import TreeLoader\n",
    "from cointegridy.src.classes.Time import Time"
   ]
  },
  {
   "cell_type": "markdown",
   "metadata": {},
   "source": []
  },
  {
   "cell_type": "code",
   "execution_count": 55,
   "metadata": {},
   "outputs": [
    {
     "name": "stdout",
     "output_type": "stream",
     "text": [
      "USD\n",
      "BTC\n"
     ]
    },
    {
     "ename": "KeyError",
     "evalue": "'BTC'",
     "output_type": "error",
     "traceback": [
      "\u001b[0;31m---------------------------------------------------------------------------\u001b[0m",
      "\u001b[0;31mKeyError\u001b[0m                                  Traceback (most recent call last)",
      "\u001b[0;32m/var/folders/m3/b8xwv4517bb1wvybw982vznw0000gn/T/ipykernel_44648/1305994617.py\u001b[0m in \u001b[0;36m<module>\u001b[0;34m\u001b[0m\n\u001b[1;32m     11\u001b[0m \u001b[0mprint\u001b[0m\u001b[0;34m(\u001b[0m\u001b[0msample_denom\u001b[0m\u001b[0;34m)\u001b[0m\u001b[0;34m\u001b[0m\u001b[0;34m\u001b[0m\u001b[0m\n\u001b[1;32m     12\u001b[0m \u001b[0mprint\u001b[0m\u001b[0;34m(\u001b[0m\u001b[0msample_symbol\u001b[0m\u001b[0;34m)\u001b[0m\u001b[0;34m\u001b[0m\u001b[0;34m\u001b[0m\u001b[0m\n\u001b[0;32m---> 13\u001b[0;31m \u001b[0mprint\u001b[0m\u001b[0;34m(\u001b[0m\u001b[0mtreeloader\u001b[0m\u001b[0;34m[\u001b[0m\u001b[0msample_symbol\u001b[0m\u001b[0;34m:\u001b[0m\u001b[0msample_denom\u001b[0m\u001b[0;34m]\u001b[0m\u001b[0;34m.\u001b[0m\u001b[0mslice_tree\u001b[0m\u001b[0;34m)\u001b[0m\u001b[0;34m\u001b[0m\u001b[0;34m\u001b[0m\u001b[0m\n\u001b[0m\u001b[1;32m     14\u001b[0m \u001b[0;32mfor\u001b[0m \u001b[0mrow\u001b[0m \u001b[0;32min\u001b[0m \u001b[0mtreeloader\u001b[0m\u001b[0;34m[\u001b[0m\u001b[0msample_symbol\u001b[0m\u001b[0;34m:\u001b[0m\u001b[0msample_denom\u001b[0m\u001b[0;34m]\u001b[0m\u001b[0;34m[\u001b[0m\u001b[0mquerry_sT\u001b[0m\u001b[0;34m:\u001b[0m\u001b[0mquerry_eT\u001b[0m\u001b[0;34m:\u001b[0m\u001b[0mquerry_interval_flag\u001b[0m\u001b[0;34m]\u001b[0m\u001b[0;34m:\u001b[0m\u001b[0;34m\u001b[0m\u001b[0;34m\u001b[0m\u001b[0m\n\u001b[1;32m     15\u001b[0m     \u001b[0mdisplay\u001b[0m\u001b[0;34m(\u001b[0m\u001b[0mrow\u001b[0m\u001b[0;34m)\u001b[0m\u001b[0;34m\u001b[0m\u001b[0;34m\u001b[0m\u001b[0m\n",
      "\u001b[0;32m~/Desktop/cointegridy/cointegridy/src/classes/data_loader.py\u001b[0m in \u001b[0;36m__getitem__\u001b[0;34m(self, asset)\u001b[0m\n\u001b[1;32m    244\u001b[0m             \u001b[0mstr_asset\u001b[0m \u001b[0;34m=\u001b[0m \u001b[0masset\u001b[0m\u001b[0;34m.\u001b[0m\u001b[0msplit\u001b[0m\u001b[0;34m(\u001b[0m\u001b[0;34m'/'\u001b[0m\u001b[0;34m)\u001b[0m \u001b[0;32mif\u001b[0m \u001b[0;34m'/'\u001b[0m \u001b[0;32min\u001b[0m \u001b[0masset\u001b[0m \u001b[0;32melse\u001b[0m \u001b[0masset\u001b[0m\u001b[0;34m\u001b[0m\u001b[0;34m\u001b[0m\u001b[0m\n\u001b[1;32m    245\u001b[0m         \u001b[0msymbol\u001b[0m\u001b[0;34m,\u001b[0m\u001b[0mdenom\u001b[0m \u001b[0;34m=\u001b[0m \u001b[0mstr_asset\u001b[0m \u001b[0;32mif\u001b[0m \u001b[0misinstance\u001b[0m\u001b[0;34m(\u001b[0m\u001b[0masset\u001b[0m\u001b[0;34m,\u001b[0m\u001b[0mstr\u001b[0m\u001b[0;34m)\u001b[0m \u001b[0;32melse\u001b[0m \u001b[0masset\u001b[0m\u001b[0;34m.\u001b[0m\u001b[0mstart\u001b[0m\u001b[0;34m,\u001b[0m\u001b[0masset\u001b[0m\u001b[0;34m.\u001b[0m\u001b[0mstop\u001b[0m\u001b[0;34m\u001b[0m\u001b[0;34m\u001b[0m\u001b[0m\n\u001b[0;32m--> 246\u001b[0;31m         \u001b[0;32mif\u001b[0m \u001b[0;32mnot\u001b[0m \u001b[0mdenom\u001b[0m \u001b[0;32min\u001b[0m \u001b[0mself\u001b[0m\u001b[0;34m.\u001b[0m\u001b[0msymbol_to_denoms\u001b[0m\u001b[0;34m[\u001b[0m\u001b[0msymbol\u001b[0m\u001b[0;34m]\u001b[0m\u001b[0;34m:\u001b[0m \u001b[0;32mreturn\u001b[0m\u001b[0;34m\u001b[0m\u001b[0;34m\u001b[0m\u001b[0m\n\u001b[0m\u001b[1;32m    247\u001b[0m \u001b[0;34m\u001b[0m\u001b[0m\n\u001b[1;32m    248\u001b[0m         \u001b[0mloader\u001b[0m \u001b[0;34m=\u001b[0m \u001b[0;32mNone\u001b[0m\u001b[0;34m\u001b[0m\u001b[0;34m\u001b[0m\u001b[0m\n",
      "\u001b[0;31mKeyError\u001b[0m: 'BTC'"
     ]
    }
   ],
   "source": [
    "# NOTE: The goal is to get the prices for coins in any given basket to test for cointegration\n",
    "# Right now I just want to make sure I can pull the prices for arbitrary time windows, either\n",
    "# statically (saved locally, preferred), or dynamically (if not saved locally, and then optionally\n",
    "# save locally)\n",
    "\n",
    "treeloader = TreeLoader(mode='df')\n",
    "sampler = Sampler()\n",
    "\n",
    "sample_basket = [b for b in sampler.symbol_baskets_gen(num_samps=1)][0]\n",
    "# sample_symbol = sample_basket[0]\n",
    "# sample_denom = next(iter(sampler.symbol_to_denoms[sample_symbol]))\n",
    "sample_symbol = 'BTC'\n",
    "sample_denom = 'USD'\n",
    "querry_sT, querry_eT = Time.date_to_Time(*(2021,1,1)), Time.date_to_Time(*(2021,1,5))\n",
    "querry_interval_flag = '6h'\n",
    "print(sample_denom)\n",
    "print(sample_symbol)\n",
    "print(treeloader[sample_symbol:sample_denom].slice_tree)\n",
    "for row in treeloader[sample_symbol:sample_denom][querry_sT:querry_eT:querry_interval_flag]:\n",
    "    display(row)"
   ]
  },
  {
   "cell_type": "code",
   "execution_count": null,
   "metadata": {},
   "outputs": [],
   "source": []
  }
 ],
 "metadata": {
  "interpreter": {
   "hash": "247899d623c2897dd7db0cdc622297f431b96d3bf03751b4cbb49b16e2398aec"
  },
  "kernelspec": {
   "display_name": "Python 3.7.5 64-bit ('venv': venv)",
   "language": "python",
   "name": "python3"
  },
  "language_info": {
   "codemirror_mode": {
    "name": "ipython",
    "version": 3
   },
   "file_extension": ".py",
   "mimetype": "text/x-python",
   "name": "python",
   "nbconvert_exporter": "python",
   "pygments_lexer": "ipython3",
   "version": "3.7.5"
  },
  "orig_nbformat": 4
 },
 "nbformat": 4,
 "nbformat_minor": 2
}
