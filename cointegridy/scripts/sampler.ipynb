{
 "cells": [
  {
   "cell_type": "code",
   "execution_count": 12,
   "metadata": {},
   "outputs": [
    {
     "name": "stdout",
     "output_type": "stream",
     "text": [
      "The autoreload extension is already loaded. To reload it, use:\n",
      "  %reload_ext autoreload\n"
     ]
    }
   ],
   "source": [
    "%load_ext autoreload\n",
    "%matplotlib inline"
   ]
  },
  {
   "cell_type": "code",
   "execution_count": 13,
   "metadata": {},
   "outputs": [],
   "source": [
    "%autoreload 2\n",
    "\n",
    "# Custom imports\n",
    "from cointegridy.src.classes.sampler import Sampler\n",
    "from cointegridy.src.classes.data_loader import TreeLoader\n",
    "from cointegridy.src.classes.Time import Time"
   ]
  },
  {
   "cell_type": "markdown",
   "metadata": {},
   "source": []
  },
  {
   "cell_type": "code",
   "execution_count": 14,
   "metadata": {},
   "outputs": [
    {
     "ename": "KeyError",
     "evalue": "'BTC'",
     "output_type": "error",
     "traceback": [
      "\u001b[0;31m---------------------------------------------------------------------------\u001b[0m",
      "\u001b[0;31mKeyError\u001b[0m                                  Traceback (most recent call last)",
      "\u001b[0;32m/var/folders/my/m2b90dwj1yb4_vx37kp75lq40000gn/T/ipykernel_41176/3129716099.py\u001b[0m in \u001b[0;36m<module>\u001b[0;34m\u001b[0m\n\u001b[1;32m      9\u001b[0m \u001b[0msample_basket\u001b[0m \u001b[0;34m=\u001b[0m \u001b[0;34m[\u001b[0m\u001b[0mb\u001b[0m \u001b[0;32mfor\u001b[0m \u001b[0mb\u001b[0m \u001b[0;32min\u001b[0m \u001b[0msampler\u001b[0m\u001b[0;34m.\u001b[0m\u001b[0msymbol_baskets_gen\u001b[0m\u001b[0;34m(\u001b[0m\u001b[0mnum_samps\u001b[0m\u001b[0;34m=\u001b[0m\u001b[0;36m1\u001b[0m\u001b[0;34m)\u001b[0m\u001b[0;34m]\u001b[0m\u001b[0;34m[\u001b[0m\u001b[0;36m0\u001b[0m\u001b[0;34m]\u001b[0m\u001b[0;34m\u001b[0m\u001b[0;34m\u001b[0m\u001b[0m\n\u001b[1;32m     10\u001b[0m \u001b[0;31m# sample_symbol = sample_basket[0]\u001b[0m\u001b[0;34m\u001b[0m\u001b[0;34m\u001b[0m\u001b[0;34m\u001b[0m\u001b[0m\n\u001b[0;32m---> 11\u001b[0;31m \u001b[0;32mfor\u001b[0m \u001b[0mdenom\u001b[0m \u001b[0;32min\u001b[0m \u001b[0msampler\u001b[0m\u001b[0;34m.\u001b[0m\u001b[0msymbol_to_denoms\u001b[0m\u001b[0;34m[\u001b[0m\u001b[0;34m'BTC'\u001b[0m\u001b[0;34m]\u001b[0m\u001b[0;34m:\u001b[0m\u001b[0;34m\u001b[0m\u001b[0;34m\u001b[0m\u001b[0m\n\u001b[0m\u001b[1;32m     12\u001b[0m     \u001b[0mprint\u001b[0m\u001b[0;34m(\u001b[0m\u001b[0mdenom\u001b[0m\u001b[0;34m)\u001b[0m\u001b[0;34m\u001b[0m\u001b[0;34m\u001b[0m\u001b[0m\n\u001b[1;32m     13\u001b[0m \u001b[0;31m# sample_denom = next(iter(sampler.symbol_to_denoms[sample_symbol]))\u001b[0m\u001b[0;34m\u001b[0m\u001b[0;34m\u001b[0m\u001b[0;34m\u001b[0m\u001b[0m\n",
      "\u001b[0;31mKeyError\u001b[0m: 'BTC'"
     ]
    }
   ],
   "source": [
    "# NOTE: The goal is to get the prices for coins in any given basket to test for cointegration\n",
    "# Right now I just want to make sure I can pull the prices for arbitrary time windows, either\n",
    "# statically (saved locally, preferred), or dynamically (if not saved locally, and then optionally\n",
    "# save locally)\n",
    "\n",
    "treeloader = TreeLoader(mode='df')\n",
    "sampler = Sampler()\n",
    "\n",
    "sample_basket = [b for b in sampler.symbol_baskets_gen(num_samps=1)][0]\n",
    "# sample_symbol = sample_basket[0]\n",
    "for denom in sampler.symbol_to_denoms['BTC']:\n",
    "    print(denom)\n",
    "# sample_denom = next(iter(sampler.symbol_to_denoms[sample_symbol]))\n",
    "sample_symbol = 'BTC'\n",
    "sample_denom = 'USD'\n",
    "querry_sT, querry_eT = Time.date_to_Time(*(2021,1,1)), Time.date_to_Time(*(2021,1,5))\n",
    "querry_interval_flag = '6h'\n",
    "# print(sample_denom)\n",
    "# print(sample_symbol)\n",
    "# print(treeloader[sample_symbol:sample_denom].slice_tree)\n",
    "print(treeloader[sample_symbol:sample_denom])\n",
    "for row in treeloader[sample_symbol:sample_denom][querry_sT:querry_eT:querry_interval_flag]:\n",
    "    display(row)"
   ]
  },
  {
   "cell_type": "code",
   "execution_count": null,
   "metadata": {},
   "outputs": [],
   "source": []
  }
 ],
 "metadata": {
  "interpreter": {
   "hash": "247899d623c2897dd7db0cdc622297f431b96d3bf03751b4cbb49b16e2398aec"
  },
  "kernelspec": {
   "display_name": "Python 3.7.5 64-bit ('venv': venv)",
   "language": "python",
   "name": "python3"
  },
  "language_info": {
   "codemirror_mode": {
    "name": "ipython",
    "version": 3
   },
   "file_extension": ".py",
   "mimetype": "text/x-python",
   "name": "python",
   "nbconvert_exporter": "python",
   "pygments_lexer": "ipython3",
   "version": "3.8.12"
  },
  "orig_nbformat": 4
 },
 "nbformat": 4,
 "nbformat_minor": 2
}
