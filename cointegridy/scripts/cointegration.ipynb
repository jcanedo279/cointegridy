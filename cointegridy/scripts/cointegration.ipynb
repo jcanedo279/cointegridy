{
 "cells": [
  {
   "cell_type": "code",
   "execution_count": 9,
   "metadata": {},
   "outputs": [
    {
     "name": "stdout",
     "output_type": "stream",
     "text": [
      "The autoreload extension is already loaded. To reload it, use:\n",
      "  %reload_ext autoreload\n"
     ]
    }
   ],
   "source": [
    "%load_ext autoreload\n",
    "%matplotlib inline"
   ]
  },
  {
   "cell_type": "code",
   "execution_count": 10,
   "metadata": {},
   "outputs": [],
   "source": [
    "%autoreload 2\n",
    "\n",
    "import sys \n",
    "import pandas as pd\n",
    "import numpy as np\n",
    "import datetime\n",
    "from datetime import timezone\n",
    "import pytz\n",
    "import random\n",
    "from pycoingecko import CoinGeckoAPI\n",
    "import statsmodels.tsa.stattools as ts \n",
    "import matplotlib.pyplot as plt\n",
    "\n",
    "# Custom imports\n",
    "from cointegridy.src.classes.basket import Basket\n",
    "from cointegridy.src.classes.coin import Coin\n",
    "from cointegridy.src.classes.processor import Processor\n",
    "from cointegridy.src.classes.cgprocessor import CGProcessor\n",
    "import cointegridy.src.utils.stats as stats\n",
    "import cointegridy.src.utils.transforms as transforms\n",
    "from cointegridy.src.classes.data_loader import TreeLoader\n",
    "from cointegridy.src.classes.Time import Time"
   ]
  },
  {
   "cell_type": "code",
   "execution_count": 16,
   "metadata": {},
   "outputs": [
    {
     "name": "stdout",
     "output_type": "stream",
     "text": [
      "(1635984000.0, 62896.49)\n",
      "(1636005600.0, 62376.82)\n",
      "(1636027200.0, 61447.23)\n",
      "(1636048800.0, 60864.78)\n",
      "(1636070400.0, 61395.01)\n",
      "(1636092000.0, 62182.04)\n",
      "(1636113600.0, 61259.63)\n",
      "(1636135200.0, 60971.37)\n",
      "(1636156800.0, 60940.18)\n",
      "(1636178400.0, 61418.26)\n",
      "(1636200000.0, 60327.47)\n",
      "(1636221600.0, 60698.47)\n",
      "(1636243200.0, 61470.62)\n",
      "(1636264800.0, 61941.29)\n",
      "(1636286400.0, 61911.41)\n",
      "(1636308000.0, 62445.01)\n",
      "(1636329600.0, 63273.58)\n"
     ]
    }
   ],
   "source": [
    "data_loader = TreeLoader()\n",
    "t1, t2 = Time.date_to_Time(2021,11,4), Time.date_to_Time(2021,11,8)\n",
    "for item in data_loader['BTCUSDT'][t1:t2:'6h']:\n",
    "    print(item)"
   ]
  },
  {
   "cell_type": "code",
   "execution_count": 12,
   "metadata": {},
   "outputs": [],
   "source": [
    "###############\n",
    "## CONSTANTS ##\n",
    "###############\n",
    "\n",
    "NAT_TZ = 'America/Los_Angeles'\n",
    "NAT_TZOBJ = pytz.timezone(NAT_TZ)\n",
    "\n",
    "TRG_TZOBJ = timezone.utc\n",
    "\n",
    "PORT_IDS = ['bitcoin', 'bitcoin-cash', 'ethereum', 'litecoin']\n",
    "start_date, end_date = (2020,1,1), (2021,10,31)\n",
    "\n",
    "NAT_CURR = 'usd'\n",
    "\n",
    "LOOKBACKS = [7, 14, 30]\n",
    "ROLL_WIND = LOOKBACKS[1]"
   ]
  },
  {
   "cell_type": "code",
   "execution_count": 13,
   "metadata": {},
   "outputs": [],
   "source": [
    "##################\n",
    "## LOCAL DRIVER ##\n",
    "##################\n",
    "\n",
    "processor = CGProcessor()\n",
    "\n",
    "# Create portfolio dataframe\n",
    "port_val = processor.create_portfolio(PORT_IDS, start_date, end_date)\n",
    "data = processor.data\n",
    "\n",
    "processor.normalize([], port=True)"
   ]
  },
  {
   "cell_type": "code",
   "execution_count": 14,
   "metadata": {},
   "outputs": [
    {
     "data": {
      "text/html": [
       "<div>\n",
       "<style scoped>\n",
       "    .dataframe tbody tr th:only-of-type {\n",
       "        vertical-align: middle;\n",
       "    }\n",
       "\n",
       "    .dataframe tbody tr th {\n",
       "        vertical-align: top;\n",
       "    }\n",
       "\n",
       "    .dataframe thead th {\n",
       "        text-align: right;\n",
       "    }\n",
       "</style>\n",
       "<table border=\"1\" class=\"dataframe\">\n",
       "  <thead>\n",
       "    <tr style=\"text-align: right;\">\n",
       "      <th></th>\n",
       "      <th>bitcoin</th>\n",
       "      <th>bitcoin-cash</th>\n",
       "      <th>ethereum</th>\n",
       "      <th>litecoin</th>\n",
       "    </tr>\n",
       "  </thead>\n",
       "  <tbody>\n",
       "    <tr>\n",
       "      <th>1577836800000</th>\n",
       "      <td>7195.153895</td>\n",
       "      <td>204.561792</td>\n",
       "      <td>129.186385</td>\n",
       "      <td>41.330312</td>\n",
       "    </tr>\n",
       "    <tr>\n",
       "      <th>1577923200000</th>\n",
       "      <td>7193.754668</td>\n",
       "      <td>204.348311</td>\n",
       "      <td>130.484685</td>\n",
       "      <td>41.606316</td>\n",
       "    </tr>\n",
       "    <tr>\n",
       "      <th>1578009600000</th>\n",
       "      <td>6963.853354</td>\n",
       "      <td>195.674640</td>\n",
       "      <td>127.045258</td>\n",
       "      <td>39.413813</td>\n",
       "    </tr>\n",
       "    <tr>\n",
       "      <th>1578096000000</th>\n",
       "      <td>7300.346935</td>\n",
       "      <td>221.621452</td>\n",
       "      <td>133.702649</td>\n",
       "      <td>41.991047</td>\n",
       "    </tr>\n",
       "    <tr>\n",
       "      <th>1578182400000</th>\n",
       "      <td>7351.377053</td>\n",
       "      <td>224.487505</td>\n",
       "      <td>134.136883</td>\n",
       "      <td>42.781417</td>\n",
       "    </tr>\n",
       "    <tr>\n",
       "      <th>...</th>\n",
       "      <td>...</td>\n",
       "      <td>...</td>\n",
       "      <td>...</td>\n",
       "      <td>...</td>\n",
       "    </tr>\n",
       "    <tr>\n",
       "      <th>1635292800000</th>\n",
       "      <td>60604.188888</td>\n",
       "      <td>609.848740</td>\n",
       "      <td>4152.570289</td>\n",
       "      <td>198.406010</td>\n",
       "    </tr>\n",
       "    <tr>\n",
       "      <th>1635379200000</th>\n",
       "      <td>58641.001474</td>\n",
       "      <td>551.244177</td>\n",
       "      <td>3944.090862</td>\n",
       "      <td>180.241936</td>\n",
       "    </tr>\n",
       "    <tr>\n",
       "      <th>1635465600000</th>\n",
       "      <td>60767.555852</td>\n",
       "      <td>579.019616</td>\n",
       "      <td>4288.097219</td>\n",
       "      <td>190.168430</td>\n",
       "    </tr>\n",
       "    <tr>\n",
       "      <th>1635552000000</th>\n",
       "      <td>62283.198056</td>\n",
       "      <td>591.975602</td>\n",
       "      <td>4422.940536</td>\n",
       "      <td>196.704274</td>\n",
       "    </tr>\n",
       "    <tr>\n",
       "      <th>1635638400000</th>\n",
       "      <td>61837.257003</td>\n",
       "      <td>584.172357</td>\n",
       "      <td>4324.609926</td>\n",
       "      <td>190.194683</td>\n",
       "    </tr>\n",
       "  </tbody>\n",
       "</table>\n",
       "<p>670 rows × 4 columns</p>\n",
       "</div>"
      ],
      "text/plain": [
       "                    bitcoin  bitcoin-cash     ethereum    litecoin\n",
       "1577836800000   7195.153895    204.561792   129.186385   41.330312\n",
       "1577923200000   7193.754668    204.348311   130.484685   41.606316\n",
       "1578009600000   6963.853354    195.674640   127.045258   39.413813\n",
       "1578096000000   7300.346935    221.621452   133.702649   41.991047\n",
       "1578182400000   7351.377053    224.487505   134.136883   42.781417\n",
       "...                     ...           ...          ...         ...\n",
       "1635292800000  60604.188888    609.848740  4152.570289  198.406010\n",
       "1635379200000  58641.001474    551.244177  3944.090862  180.241936\n",
       "1635465600000  60767.555852    579.019616  4288.097219  190.168430\n",
       "1635552000000  62283.198056    591.975602  4422.940536  196.704274\n",
       "1635638400000  61837.257003    584.172357  4324.609926  190.194683\n",
       "\n",
       "[670 rows x 4 columns]"
      ]
     },
     "execution_count": 14,
     "metadata": {},
     "output_type": "execute_result"
    }
   ],
   "source": [
    "data"
   ]
  },
  {
   "cell_type": "markdown",
   "metadata": {},
   "source": [
    "# Tests\n",
    "Test cointegration of coin basket: {coins} = {c_1,...,c_n}\n",
    "ie. Check that the set {coins} is cointegrated using Engle-Granger two-step test\n",
    "This means there is some STATIONARY linear combination of {coins}\n",
    "\n",
    "<ol>\n",
    "    <li>Check that c_i is order-1 integrable</li>\n",
    "    <li>Create basket of coins, find linear regression.</li>\n",
    "    <li>Verify spread of basket is cointegrated.</li>\n",
    "    <li>Define strategy for basket trades.</li>\n",
    "</ol>\n",
    "\n",
    "#### Concerns\n",
    "<ul>\n",
    "    <li>Should we normalize data before running our regression?</li>\n",
    "</ul>\n",
    "\n",
    "#### Conclusions\n",
    "<ul>\n",
    "    <li>OLS and Linear Regression yield the same coefficients</li>\n",
    "    <li>While we usually assume stock data is I(1), it sometimes isn't (eg. Litecoin, BTC-Cash)</li>\n",
    "    <li>Normalization might help us find a regression line that does cointegrate the portfolio</li>\n",
    "    <li>We should run this test on different coins in different sized baskets.</li>\n",
    "</ul>"
   ]
  },
  {
   "cell_type": "code",
   "execution_count": 15,
   "metadata": {},
   "outputs": [
    {
     "name": "stdout",
     "output_type": "stream",
     "text": [
      "Verifying coin price stationarity...\n",
      "['bitcoin', 'bitcoin-cash', 'ethereum', 'litecoin']  are stationary \n",
      "\n"
     ]
    },
    {
     "ename": "TypeError",
     "evalue": "__init__() got an unexpected keyword argument 'processor'",
     "output_type": "error",
     "traceback": [
      "\u001b[0;31m---------------------------------------------------------------------------\u001b[0m",
      "\u001b[0;31mTypeError\u001b[0m                                 Traceback (most recent call last)",
      "\u001b[0;32m/var/folders/my/m2b90dwj1yb4_vx37kp75lq40000gn/T/ipykernel_5117/3511641018.py\u001b[0m in \u001b[0;36m<module>\u001b[0;34m\u001b[0m\n\u001b[1;32m     22\u001b[0m \u001b[0mprint\u001b[0m\u001b[0;34m(\u001b[0m\u001b[0;34m[\u001b[0m\u001b[0mcoin\u001b[0m\u001b[0;34m.\u001b[0m\u001b[0mname_\u001b[0m \u001b[0;32mfor\u001b[0m \u001b[0mcoin\u001b[0m \u001b[0;32min\u001b[0m \u001b[0mcoins\u001b[0m\u001b[0;34m]\u001b[0m\u001b[0;34m,\u001b[0m \u001b[0;34m\" are stationary \\n\"\u001b[0m\u001b[0;34m)\u001b[0m\u001b[0;34m\u001b[0m\u001b[0;34m\u001b[0m\u001b[0m\n\u001b[1;32m     23\u001b[0m \u001b[0;34m\u001b[0m\u001b[0m\n\u001b[0;32m---> 24\u001b[0;31m \u001b[0mbasket\u001b[0m \u001b[0;34m=\u001b[0m \u001b[0mBasket\u001b[0m\u001b[0;34m(\u001b[0m\u001b[0mcoins\u001b[0m\u001b[0;34m,\u001b[0m \u001b[0mtarget\u001b[0m\u001b[0;34m=\u001b[0m\u001b[0;34m'bitcoin'\u001b[0m\u001b[0;34m,\u001b[0m \u001b[0mprocessor\u001b[0m\u001b[0;34m=\u001b[0m\u001b[0mprocessor\u001b[0m\u001b[0;34m)\u001b[0m\u001b[0;34m\u001b[0m\u001b[0;34m\u001b[0m\u001b[0m\n\u001b[0m\u001b[1;32m     25\u001b[0m \u001b[0mbasket\u001b[0m\u001b[0;34m.\u001b[0m\u001b[0mfit\u001b[0m\u001b[0;34m(\u001b[0m\u001b[0mdata\u001b[0m\u001b[0;34m)\u001b[0m\u001b[0;34m\u001b[0m\u001b[0;34m\u001b[0m\u001b[0m\n\u001b[1;32m     26\u001b[0m \u001b[0mspread\u001b[0m \u001b[0;34m=\u001b[0m \u001b[0mbasket\u001b[0m\u001b[0;34m.\u001b[0m\u001b[0mfind_spread\u001b[0m\u001b[0;34m(\u001b[0m\u001b[0mdata\u001b[0m\u001b[0;34m)\u001b[0m\u001b[0;34m\u001b[0m\u001b[0;34m\u001b[0m\u001b[0m\n",
      "\u001b[0;31mTypeError\u001b[0m: __init__() got an unexpected keyword argument 'processor'"
     ]
    }
   ],
   "source": [
    "############\n",
    "## TEST 1 ##\n",
    "############\n",
    "\n",
    "# print(\"Normalizing...\")\n",
    "# scaler = MinMaxScaler()\n",
    "# scaler.fit(X, y)\n",
    "# X_scaled = scaler.transform(X) # TODO: Finish normalization\n",
    "# X_scaled = pd.DataFrame(X_scaled/X_scaled[0], index=X.index) \n",
    "# X_scaled.columns = X.columns\n",
    "\n",
    "print(\"Verifying coin price stationarity...\")\n",
    "coins = []\n",
    "for coin_name in data:\n",
    "    coin = Coin(coin_name)\n",
    "    result = coin.is_good(data[coin_name], start_date, end_date)\n",
    "    if result:\n",
    "        coins.append(coin)\n",
    "    else:\n",
    "        print(coin_name, \"is not I(1)\")\n",
    "\n",
    "print([coin.name_ for coin in coins], \" are stationary \\n\")\n",
    "        \n",
    "basket = Basket(coins, target='bitcoin', processor=processor)\n",
    "basket.fit(data)\n",
    "spread = basket.find_spread(data)\n",
    "is_cointegrated = basket.is_coint(spread)\n",
    "print(\"\\n\")\n",
    "print(\"Cointegration test returned:\", is_cointegrated)\n",
    "\n",
    "short_entry, long_entry = basket.strat(spread)"
   ]
  },
  {
   "cell_type": "markdown",
   "metadata": {},
   "source": [
    "# Explore Exchanges on CoinGecko"
   ]
  },
  {
   "cell_type": "code",
   "execution_count": null,
   "metadata": {},
   "outputs": [],
   "source": [
    "exchanges = processor.cg.get_exchanges_list()\n",
    "print(\"There are\", len(exchanges), \"exchanges.\")\n",
    "\n",
    "by_24hr_vol = sorted(exchanges, key=lambda d: d['trade_volume_24h_btc'], reverse=True) \n",
    "print(\"Top 3 by 24 trading volume:\", [exchange['id'] for exchange in by_24hr_vol[:3]])\n",
    "by_trust_score = sorted(exchanges, key=lambda d: d['trust_score_rank'])\n",
    "print(\"Top 3 by trust score:\", [exchange['id'] for exchange in by_trust_score[:3]])"
   ]
  },
  {
   "cell_type": "markdown",
   "metadata": {},
   "source": [
    "For now just use the highest 100 market cap coins on coingecko"
   ]
  },
  {
   "cell_type": "code",
   "execution_count": null,
   "metadata": {},
   "outputs": [],
   "source": [
    "COLS = ['id', 'current_price', 'high_24h', 'low_24h', 'market_cap', 'total_volume']\n",
    "\n",
    "coin_market = processor.cg.get_coins_markets(vs_currency=NAT_CURR)\n",
    "df_market = pd.DataFrame(coin_market, columns=COLS)\n",
    "df_market.set_index('id', inplace=True)"
   ]
  },
  {
   "cell_type": "code",
   "execution_count": null,
   "metadata": {},
   "outputs": [],
   "source": [
    "df_market"
   ]
  },
  {
   "cell_type": "markdown",
   "metadata": {},
   "source": [
    "From binomial theorem there are $2^{100}$ baskets so we need to find a way of filtering.\n",
    "\n",
    "<b>There are also too many coins to pull all of them at once! We might have to create and host a database that contains updated data. We can pull around 50 or so coins at once.</b>\n",
    "\n",
    "### Strategy\n",
    "Take Pearson (Spearman?) correlation of dataframe to filter out some coins.\n",
    "\n",
    "Idea:\n",
    "We could train a model to take price data and try to spit out which coins are the most likely to be cointegrated. I think this could be some kind of "
   ]
  },
  {
   "cell_type": "code",
   "execution_count": null,
   "metadata": {},
   "outputs": [],
   "source": [
    "# Create portfolio dataframe\n",
    "port_val = processor.create_portfolio(df_market[:50].index, start_date, end_date)\n",
    "data = processor.data\n",
    "# Write to CSV"
   ]
  },
  {
   "cell_type": "code",
   "execution_count": null,
   "metadata": {},
   "outputs": [],
   "source": [
    "corr = data.corr();corr"
   ]
  },
  {
   "cell_type": "code",
   "execution_count": null,
   "metadata": {},
   "outputs": [],
   "source": [
    "print(\"Verifying coin price stationarity...\")\n",
    "coins = []\n",
    "for coin_name in data:\n",
    "    coin = Coin(coin_name)\n",
    "    result = coin.is_good(data[coin_name], start_date, end_date)\n",
    "    if result:\n",
    "        coins.append(coin)\n",
    "    else:\n",
    "        print(coin_name, \"is not I(1)\")\n",
    "\n",
    "print([coin.name_ for coin in coins], \" are stationary \\n\")"
   ]
  },
  {
   "cell_type": "code",
   "execution_count": null,
   "metadata": {},
   "outputs": [],
   "source": [
    "coinNames = [coin.name_ for coin in coins]\n",
    "df = data[coinNames].corr()\n",
    "corrList = df.values.flatten()\n",
    "plt.hist(corrList,bins=40)"
   ]
  },
  {
   "cell_type": "code",
   "execution_count": null,
   "metadata": {},
   "outputs": [],
   "source": [
    "df.values[[np.arange(df.shape[0])]*2] = 0\n",
    "plt.hist(df.corr().values.flatten(),bins=40)"
   ]
  },
  {
   "cell_type": "code",
   "execution_count": null,
   "metadata": {},
   "outputs": [],
   "source": []
  }
 ],
 "metadata": {
  "interpreter": {
   "hash": "aaa6305711bb90ca340e516a5eb2466be43fc01d5a7bfd481395fbcaefa2acec"
  },
  "kernelspec": {
   "display_name": "Python 3.9.6 64-bit ('venv': venv)",
   "name": "python3"
  },
  "language_info": {
   "codemirror_mode": {
    "name": "ipython",
    "version": 3
   },
   "file_extension": ".py",
   "mimetype": "text/x-python",
   "name": "python",
   "nbconvert_exporter": "python",
   "pygments_lexer": "ipython3",
   "version": "3.9.8"
  }
 },
 "nbformat": 4,
 "nbformat_minor": 2
}
