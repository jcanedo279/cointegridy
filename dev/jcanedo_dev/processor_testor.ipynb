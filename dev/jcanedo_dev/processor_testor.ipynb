{
 "cells": [
  {
   "cell_type": "code",
   "execution_count": 1,
   "metadata": {},
   "outputs": [],
   "source": [
    "import sys"
   ]
  },
  {
   "cell_type": "code",
   "execution_count": 2,
   "metadata": {},
   "outputs": [
    {
     "data": {
      "text/plain": [
       "'../../'"
      ]
     },
     "execution_count": 2,
     "metadata": {},
     "output_type": "execute_result"
    }
   ],
   "source": [
    "sys.path.insert(0, '../../')\n",
    "%load_ext autoreload\n",
    "%aimport processor\n",
    "\n",
    "from processor import Processor\n",
    "from bin.Time import Time\n",
    "sys.path.pop(0)"
   ]
  },
  {
   "cell_type": "code",
   "execution_count": 3,
   "metadata": {},
   "outputs": [
    {
     "name": "stdout",
     "output_type": "stream",
     "text": [
      "The epoch of the bnc processor is Thu Jan  1 00:00:00 1970\n",
      "The latency of the bnc processor is 1.881978988647461\n"
     ]
    }
   ],
   "source": [
    "#######################\n",
    "## BINANCE PROCESSOR ##\n",
    "#######################\n",
    "\n",
    "api = 'bnc'\n",
    "\n",
    "t1, t2 = Time.date_to_Time(2021,11,4), Time.date_to_Time(2021,11,4, minute=10)\n",
    "\n",
    "pc_bnc = Processor(api)"
   ]
  },
  {
   "cell_type": "code",
   "execution_count": 4,
   "metadata": {},
   "outputs": [],
   "source": [
    "ids = pc_bnc.get_api_ids()"
   ]
  },
  {
   "cell_type": "code",
   "execution_count": 5,
   "metadata": {},
   "outputs": [
    {
     "name": "stdout",
     "output_type": "stream",
     "text": [
      "[(1635984000.29, 0.0002061), (1635984000.349, 0.0002061), (1635984001.135, 0.0002062), (1635984001.357, 0.0002065), (1635984002.353, 0.0002061)]\n"
     ]
    }
   ],
   "source": [
    "price_seq = pc_bnc.id_to_hist_tmsp_seq('SHIBDOGE', t1, t2)\n",
    "print(price_seq[:5])"
   ]
  },
  {
   "cell_type": "code",
   "execution_count": 6,
   "metadata": {},
   "outputs": [
    {
     "name": "stdout",
     "output_type": "stream",
     "text": [
      "[(1636319169.775, 0.0002164), (1636319180.61, 0.0002164), (1636319189.585, 0.0002167), (1636319204.048, 0.0002166), (1636319204.532, 0.0002166)]\n"
     ]
    }
   ],
   "source": [
    "price_seq = pc_bnc.id_to_curr_tmsp_seq('SHIBDOGE')\n",
    "print(price_seq[:5])"
   ]
  },
  {
   "cell_type": "code",
   "execution_count": 7,
   "metadata": {},
   "outputs": [],
   "source": [
    "#########################\n",
    "## COINGECKO PROCESSOR ##\n",
    "#########################\n",
    "\n",
    "api = 'cg'\n",
    "\n",
    "d1, d2 = (2020,11,26), (2021,6,2)\n",
    "\n",
    "pc_cg = Processor(api)"
   ]
  },
  {
   "cell_type": "code",
   "execution_count": 8,
   "metadata": {},
   "outputs": [],
   "source": [
    "ids = pc_cg.get_api_ids()"
   ]
  },
  {
   "cell_type": "code",
   "execution_count": 9,
   "metadata": {},
   "outputs": [],
   "source": [
    "some_id = ids[0]\n",
    "daily_seq = pc_cg.id_to_daily_seq(some_id, d1, d2)\n",
    "print(daily_seq[:5])"
   ]
  }
 ],
 "metadata": {
  "interpreter": {
   "hash": "aaa6305711bb90ca340e516a5eb2466be43fc01d5a7bfd481395fbcaefa2acec"
  },
  "kernelspec": {
   "display_name": "Python 3.9.6 64-bit ('venv': venv)",
   "name": "python3"
  },
  "language_info": {
   "codemirror_mode": {
    "name": "ipython",
    "version": 3
   },
   "file_extension": ".py",
   "mimetype": "text/x-python",
   "name": "python",
   "nbconvert_exporter": "python",
   "pygments_lexer": "ipython3",
   "version": "3.9.6"
  },
  "orig_nbformat": 4
 },
 "nbformat": 4,
 "nbformat_minor": 2
}
