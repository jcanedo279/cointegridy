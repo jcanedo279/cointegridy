{
 "cells": [
  {
   "cell_type": "code",
   "execution_count": 12,
   "metadata": {},
   "outputs": [],
   "source": [
    "import sys"
   ]
  },
  {
   "cell_type": "code",
   "execution_count": 13,
   "metadata": {},
   "outputs": [
    {
     "data": {
      "text/plain": [
       "'../../'"
      ]
     },
     "execution_count": 13,
     "metadata": {},
     "output_type": "execute_result"
    }
   ],
   "source": [
    "sys.path.insert(0, '../../')\n",
    "from processor import Processor\n",
    "from bin.Time import Time\n",
    "sys.path.pop(0)"
   ]
  },
  {
   "cell_type": "code",
   "execution_count": 14,
   "metadata": {},
   "outputs": [],
   "source": [
    "API = 'bnc'\n",
    "\n",
    "t1, t2 = Time.date_to_Time(2021,11,4), Time.date_to_Time(2021,11,4, minute=10)"
   ]
  },
  {
   "cell_type": "code",
   "execution_count": null,
   "metadata": {},
   "outputs": [
    {
     "name": "stdout",
     "output_type": "stream",
     "text": [
      "The epoch of this bnc processor is Thu Jan  1 00:00:00 1970\n",
      "The latency of this bnc processor is 1.692903995513916\n"
     ]
    }
   ],
   "source": [
    "pc = Processor(API)"
   ]
  },
  {
   "cell_type": "code",
   "execution_count": 15,
   "metadata": {},
   "outputs": [],
   "source": [
    "ids = pc.get_api_ids()"
   ]
  },
  {
   "cell_type": "code",
   "execution_count": 17,
   "metadata": {},
   "outputs": [
    {
     "name": "stdout",
     "output_type": "stream",
     "text": [
      "[(1635984000.29, 0.0002061), (1635984000.349, 0.0002061), (1635984001.135, 0.0002062), (1635984001.357, 0.0002065), (1635984002.353, 0.0002061), (1635984002.497, 0.0002061), (1635984013.279, 0.0002061), (1635984014.401, 0.0002061), (1635984017.923, 0.0002061), (1635984018.08, 0.0002061)]\n"
     ]
    }
   ],
   "source": [
    "price_seq = pc.id_to_hist_tmsp_seq('SHIBDOGE', t1, t2)\n",
    "print(price_seq[:10])"
   ]
  },
  {
   "cell_type": "code",
   "execution_count": 18,
   "metadata": {},
   "outputs": [
    {
     "name": "stdout",
     "output_type": "stream",
     "text": [
      "[(1636102238.316, 0.0001827), (1636102238.335, 0.0001828), (1636102240.329, 0.0001828), (1636102241.33, 0.0001828), (1636102243.994, 0.0001827), (1636102243.994, 0.0001826), (1636102247.669, 0.0001828), (1636102251.832, 0.0001826), (1636102252.064, 0.0001826), (1636102252.064, 0.0001825)]\n"
     ]
    }
   ],
   "source": [
    "price_seq = pc.id_to_curr_tmsp_seq('SHIBDOGE')\n",
    "print(price_seq[:10])"
   ]
  },
  {
   "cell_type": "code",
   "execution_count": null,
   "metadata": {},
   "outputs": [],
   "source": []
  }
 ],
 "metadata": {
  "interpreter": {
   "hash": "aaa6305711bb90ca340e516a5eb2466be43fc01d5a7bfd481395fbcaefa2acec"
  },
  "kernelspec": {
   "display_name": "Python 3.9.6 64-bit ('venv': venv)",
   "name": "python3"
  },
  "language_info": {
   "codemirror_mode": {
    "name": "ipython",
    "version": 3
   },
   "file_extension": ".py",
   "mimetype": "text/x-python",
   "name": "python",
   "nbconvert_exporter": "python",
   "pygments_lexer": "ipython3",
   "version": "3.9.6"
  },
  "orig_nbformat": 4
 },
 "nbformat": 4,
 "nbformat_minor": 2
}
