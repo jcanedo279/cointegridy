{
 "cells": [
  {
   "cell_type": "code",
   "execution_count": 1,
   "metadata": {},
   "outputs": [],
   "source": [
    "%load_ext autoreload\n",
    "%aimport processing"
   ]
  },
  {
   "cell_type": "code",
   "execution_count": 2,
   "metadata": {},
   "outputs": [],
   "source": [
    "%autoreload 1\n",
    "\n",
    "import pandas as pd\n",
    "import numpy as np\n",
    "\n",
    "import datetime\n",
    "from datetime import timezone\n",
    "import pytz\n",
    "\n",
    "from pycoingecko import CoinGeckoAPI\n",
    "\n",
    "from processing import Processor"
   ]
  },
  {
   "cell_type": "code",
   "execution_count": 3,
   "metadata": {},
   "outputs": [],
   "source": [
    "cg = CoinGeckoAPI()"
   ]
  },
  {
   "cell_type": "code",
   "execution_count": 4,
   "metadata": {},
   "outputs": [],
   "source": [
    "# coin_list = cg.get_coins_list()\n",
    "\n",
    "# ids = [coin_data['id'] for coin_data in coin_list]\n",
    "\n",
    "# id_to_data = {}\n",
    "# for coin_data in coin_list:\n",
    "#     id_to_data[coin_data.pop('id')] = coin_data\n",
    "# ids = id_to_data.keys()"
   ]
  },
  {
   "cell_type": "code",
   "execution_count": 5,
   "metadata": {},
   "outputs": [],
   "source": [
    "# COIN_COLS = ['id', 'symbol', 'name']\n",
    "# df_coin_names = pd.DataFrame(coin_list, columns=['name'])\n",
    "\n",
    "# coin_market = cg.get_coins_markets(vs_currency=NAT_CURR)\n",
    "# df_market = pd.DataFrame(coin_market, columns=['id', 'current_price', 'high_24h', 'low_24h'])\n",
    "# df_market.set_index('id', inplace=True)"
   ]
  },
  {
   "cell_type": "code",
   "execution_count": 6,
   "metadata": {},
   "outputs": [],
   "source": [
    "###############\n",
    "## CONSTANTS ##\n",
    "###############\n",
    "\n",
    "NAT_TZ = 'America/Los_Angeles'\n",
    "NAT_TZOBJ = pytz.timezone(NAT_TZ)\n",
    "\n",
    "TRG_TZOBJ = timezone.utc\n",
    "\n",
    "PORT_IDS = ['bitcoin', 'bitcoin-cash', 'ethereum', 'litecoin']\n",
    "\n",
    "NAT_CURR = 'usd'\n",
    "\n",
    "LOOKBACKS = [7, 14, 30]\n",
    "ROLL_WIND = LOOKBACKS[1]"
   ]
  },
  {
   "cell_type": "code",
   "execution_count": 7,
   "metadata": {},
   "outputs": [],
   "source": [
    "##################\n",
    "## LOCAL DRIVER ##\n",
    "##################\n",
    "\n",
    "start_date, end_date = (2020,1,1), (2021,10,31)\n",
    "\n",
    "processor = Processor(cg)\n",
    "\n",
    "# Create portfolio dataframe\n",
    "port_val = processor.create_portfolio(PORT_IDS, start_date, end_date)\n",
    "data = processor.data\n",
    "\n",
    "processor.normalize([], port=True)"
   ]
  },
  {
   "cell_type": "code",
   "execution_count": 8,
   "metadata": {},
   "outputs": [
    {
     "data": {
      "text/html": [
       "<div>\n",
       "<style scoped>\n",
       "    .dataframe tbody tr th:only-of-type {\n",
       "        vertical-align: middle;\n",
       "    }\n",
       "\n",
       "    .dataframe tbody tr th {\n",
       "        vertical-align: top;\n",
       "    }\n",
       "\n",
       "    .dataframe thead th {\n",
       "        text-align: right;\n",
       "    }\n",
       "</style>\n",
       "<table border=\"1\" class=\"dataframe\">\n",
       "  <thead>\n",
       "    <tr style=\"text-align: right;\">\n",
       "      <th></th>\n",
       "      <th>bitcoin</th>\n",
       "      <th>bitcoin-cash</th>\n",
       "      <th>ethereum</th>\n",
       "      <th>litecoin</th>\n",
       "    </tr>\n",
       "  </thead>\n",
       "  <tbody>\n",
       "    <tr>\n",
       "      <th>1577836800000</th>\n",
       "      <td>7195.153895</td>\n",
       "      <td>204.561792</td>\n",
       "      <td>129.186385</td>\n",
       "      <td>41.330312</td>\n",
       "    </tr>\n",
       "    <tr>\n",
       "      <th>1577923200000</th>\n",
       "      <td>7193.754668</td>\n",
       "      <td>204.348311</td>\n",
       "      <td>130.484685</td>\n",
       "      <td>41.606316</td>\n",
       "    </tr>\n",
       "    <tr>\n",
       "      <th>1578009600000</th>\n",
       "      <td>6963.853354</td>\n",
       "      <td>195.674640</td>\n",
       "      <td>127.045258</td>\n",
       "      <td>39.413813</td>\n",
       "    </tr>\n",
       "    <tr>\n",
       "      <th>1578096000000</th>\n",
       "      <td>7300.346935</td>\n",
       "      <td>221.621452</td>\n",
       "      <td>133.702649</td>\n",
       "      <td>41.991047</td>\n",
       "    </tr>\n",
       "    <tr>\n",
       "      <th>1578182400000</th>\n",
       "      <td>7351.377053</td>\n",
       "      <td>224.487505</td>\n",
       "      <td>134.136883</td>\n",
       "      <td>42.781417</td>\n",
       "    </tr>\n",
       "    <tr>\n",
       "      <th>...</th>\n",
       "      <td>...</td>\n",
       "      <td>...</td>\n",
       "      <td>...</td>\n",
       "      <td>...</td>\n",
       "    </tr>\n",
       "    <tr>\n",
       "      <th>1635292800000</th>\n",
       "      <td>60604.188888</td>\n",
       "      <td>609.848740</td>\n",
       "      <td>4152.570289</td>\n",
       "      <td>198.406010</td>\n",
       "    </tr>\n",
       "    <tr>\n",
       "      <th>1635379200000</th>\n",
       "      <td>58641.001474</td>\n",
       "      <td>551.244177</td>\n",
       "      <td>3944.090862</td>\n",
       "      <td>180.241936</td>\n",
       "    </tr>\n",
       "    <tr>\n",
       "      <th>1635465600000</th>\n",
       "      <td>60767.555852</td>\n",
       "      <td>579.019616</td>\n",
       "      <td>4288.097219</td>\n",
       "      <td>190.168430</td>\n",
       "    </tr>\n",
       "    <tr>\n",
       "      <th>1635552000000</th>\n",
       "      <td>62283.198056</td>\n",
       "      <td>591.975602</td>\n",
       "      <td>4422.940536</td>\n",
       "      <td>196.704274</td>\n",
       "    </tr>\n",
       "    <tr>\n",
       "      <th>1635638400000</th>\n",
       "      <td>61837.257003</td>\n",
       "      <td>584.172357</td>\n",
       "      <td>4324.609926</td>\n",
       "      <td>190.194683</td>\n",
       "    </tr>\n",
       "  </tbody>\n",
       "</table>\n",
       "<p>670 rows × 4 columns</p>\n",
       "</div>"
      ],
      "text/plain": [
       "                    bitcoin  bitcoin-cash     ethereum    litecoin\n",
       "1577836800000   7195.153895    204.561792   129.186385   41.330312\n",
       "1577923200000   7193.754668    204.348311   130.484685   41.606316\n",
       "1578009600000   6963.853354    195.674640   127.045258   39.413813\n",
       "1578096000000   7300.346935    221.621452   133.702649   41.991047\n",
       "1578182400000   7351.377053    224.487505   134.136883   42.781417\n",
       "...                     ...           ...          ...         ...\n",
       "1635292800000  60604.188888    609.848740  4152.570289  198.406010\n",
       "1635379200000  58641.001474    551.244177  3944.090862  180.241936\n",
       "1635465600000  60767.555852    579.019616  4288.097219  190.168430\n",
       "1635552000000  62283.198056    591.975602  4422.940536  196.704274\n",
       "1635638400000  61837.257003    584.172357  4324.609926  190.194683\n",
       "\n",
       "[670 rows x 4 columns]"
      ]
     },
     "metadata": {},
     "output_type": "display_data"
    }
   ],
   "source": [
    "display(data)"
   ]
  },
  {
   "cell_type": "code",
   "execution_count": 9,
   "metadata": {},
   "outputs": [
    {
     "data": {
      "text/plain": [
       "<Figure size 432x288 with 0 Axes>"
      ]
     },
     "metadata": {},
     "output_type": "display_data"
    },
    {
     "data": {
      "image/png": "[encoded data removed]",
      "text/plain": [
       "<Figure size 1080x504 with 1 Axes>"
      ]
     },
     "metadata": {
      "needs_background": "light"
     },
     "output_type": "display_data"
    },
    {
     "name": "stdout",
     "output_type": "stream",
     "text": [
      "t-stat = -16.66019845074552: The series None_RM_I is stationary with confidence level  99%\n",
      "(-16.67502659721081, 1.1331522348341455e-28, array([-3.91288546, -3.34527843, -3.05079569]))\n"
     ]
    }
   ],
   "source": [
    "############\n",
    "## TEST 1 ##\n",
    "############\n",
    "\n",
    "# Create normalized timeseries for portfolio\n",
    "port_rm = processor.take_roll_avg(ROLL_WIND)\n",
    "port_rm.name = f'{port_val.name}_RM'\n",
    "\n",
    "\n",
    "# IF a random variable is stationary THEN it is also order one integratable #\n",
    "\n",
    "port_ret = processor.integrate(port_rm)\n",
    "\n",
    "comparator = port_ret + np.random.normal(0, 5, len(port_ret))\n",
    "\n",
    "# These two series should be stationary and cointegrate\n",
    "coint_res = processor.is_coint(port_ret, comparator)\n",
    "print(coint_res)"
   ]
  },
  {
   "cell_type": "markdown",
   "metadata": {},
   "source": [
    "### Testing cointegration of crypto basket\n",
    "Test cointegration of coin basket: {coins} = {c_1,...,c_n}\n",
    "ie. Check that the set {coins} is cointegrated using Engle-Granger two-step test\n",
    "This means there is some STATIONARY linear combination of {coins}\n",
    "\n",
    "<ol>\n",
    "    <li>Check that c_i is non-stationary and order-1 integrable</li>\n",
    "    <li>Using Multivariate Linear Regression, find coef_ for Linear Combination of {coins}</li>\n",
    "    <li>Check that the linear regression RESIDUAL is stationary using Augmented Dickey-Fuller test</li>\n",
    "</ol>\n",
    "\n",
    "Then, {coins} is cointegrated\n",
    "\n",
    "#### Concerns\n",
    "<ul>\n",
    "    <li>Should we normalize data before running our regression?</li>\n",
    "</ul>\n",
    "\n",
    "#### Conclusions\n",
    "<ul>\n",
    "    <li>OLS and Linear Regression yield the same coefficients</li>\n",
    "    <li>While we usually assume stock data is I(1), it sometimes isn't (eg. Litecoin, BTC-Cash)</li>\n",
    "    <li>As of now, we have not found a regression that makes th residuals stationay (ie. not cointegrated)</li>\n",
    "    <li>Normalization might help us find a regression line that does cointegrate the portfolio</li>\n",
    "    <li>We should run this test on different coins in different sized baskets.</li>\n",
    "</ul>"
   ]
  },
  {
   "cell_type": "code",
   "execution_count": 10,
   "metadata": {
    "scrolled": false
   },
   "outputs": [
    {
     "name": "stdout",
     "output_type": "stream",
     "text": [
      "Verifying coin price stationarity...\n",
      "t-stat = -0.268711891860062 The series bitcoin is not stationary with confidence level  99%\n",
      "t-stat = -27.103956554015575: The series bitcoin_D is stationary with confidence level  99%\n",
      "t-stat = -1.9546659172513532 The series bitcoin-cash is not stationary with confidence level  99%\n",
      "t-stat = -5.7856217637279554: The series bitcoin-cash_D is stationary with confidence level  99%\n",
      "t-stat = 0.6247624815092745 The series ethereum is not stationary with confidence level  99%\n",
      "t-stat = -7.488788918681359: The series ethereum_D is stationary with confidence level  99%\n",
      "t-stat = -1.2576904782929397 The series litecoin is not stationary with confidence level  99%\n",
      "t-stat = -8.413376201610323: The series litecoin_D is stationary with confidence level  99%\n",
      "[True, True, True, True]\n",
      "Normalizing...\n"
     ]
    },
    {
     "data": {
      "text/plain": [
       "1577836800000    5.813476e+05\n",
       "1577923200000    5.793779e+05\n",
       "1578009600000    5.562197e+05\n",
       "1578096000000    6.405533e+05\n",
       "1578182400000    6.480151e+05\n",
       "                     ...     \n",
       "1635292800000    1.046946e+06\n",
       "1635379200000    9.244249e+05\n",
       "1635465600000    9.499371e+05\n",
       "1635552000000    9.581992e+05\n",
       "1635638400000    9.653822e+05\n",
       "Name: Residuals, Length: 670, dtype: float64"
      ]
     },
     "metadata": {},
     "output_type": "display_data"
    },
    {
     "name": "stdout",
     "output_type": "stream",
     "text": [
      "t-stat = -2.6193328799921205 The series Residuals is not stationary with confidence level  99%\n"
     ]
    }
   ],
   "source": [
    "############\n",
    "## TEST 2 ##\n",
    "############\n",
    "\n",
    "from sklearn.linear_model import LinearRegression\n",
    "from sklearn.preprocessing import MinMaxScaler\n",
    "import statsmodels.api as sm\n",
    "\n",
    "print(\"Verifying coin price stationarity...\")\n",
    "stationarity = []\n",
    "for coin in data:\n",
    "    coin_stationarity = processor.test_stationarity(data[coin])\n",
    "    coin_prime = processor.differentiate(data[coin])\n",
    "    coin_prime_stationarity = processor.test_stationarity(coin_prime)\n",
    "    stationarity.append(not coin_stationarity & coin_prime_stationarity)\n",
    "print(stationarity) # BITCOIN CASH IS NOT ORDER 1 INTEGRABLE\n",
    "\n",
    "lm = LinearRegression(copy_X=True)\n",
    "X = data.drop(['bitcoin'], axis=1)\n",
    "y = data['bitcoin']\n",
    "\n",
    "print(\"Normalizing...\")\n",
    "scaler = MinMaxScaler()\n",
    "scaler.fit(X, y)\n",
    "X_scaled = scaler.transform(X) # TODO: Finish normalization\n",
    "X_scaled = pd.DataFrame(X_scaled/X_scaled[0], index=X.index) \n",
    "X_scaled.columns = X.columns\n",
    "\n",
    "lm.fit(X_scaled, y)\n",
    "coef = lm.coef_\n",
    "constant = lm.intercept_\n",
    "residuals = y - X.multiply(coef).sum(axis=1)\n",
    "residuals.name = 'Residuals'\n",
    "display(residuals)\n",
    "\n",
    "is_stationary = processor.test_stationarity(residuals, pct='1%')\n",
    "\n",
    "# USING OLS INSTEAD\n",
    "\n",
    "# X = sm.add_constant(X)\n",
    "# est = sm.OLS(y, X).fit()\n",
    "# display(est.summary())\n",
    "\n",
    "# coef_ols = est.params.values\n",
    "# residuals2 = y - X.multiply(coef_ols).sum(axis=1)\n",
    "# is_stationary = processor.test_stationarity(residuals, pct='1%')"
   ]
  },
  {
   "cell_type": "code",
   "execution_count": 17,
   "metadata": {
    "scrolled": true
   },
   "outputs": [],
   "source": [
    "spread_mean = pd.Series([constant]*len(residuals), index=residuals.index, name='Mean')\n",
    "\n",
    "upper_band = pd.Series([constant + 1*residuals.std()]*len(residuals), index=residuals.index, name='Upper band')\n",
    "lower_band = pd.Series([constant - 1*residuals.std()]*len(residuals), index=residuals.index, name='Lower band')"
   ]
  },
  {
   "cell_type": "code",
   "execution_count": 18,
   "metadata": {},
   "outputs": [
    {
     "data": {
      "text/plain": [
       "<Figure size 432x288 with 0 Axes>"
      ]
     },
     "metadata": {},
     "output_type": "display_data"
    },
    {
     "data": {
      "image/png": "[encoded data removed]",
      "text/plain": [
       "<Figure size 1080x504 with 1 Axes>"
      ]
     },
     "metadata": {
      "needs_background": "light"
     },
     "output_type": "display_data"
    }
   ],
   "source": [
    "processor.plot_series([residuals, spread_mean, upper_band, lower_band], colors=['blue', 'red', 'green', 'green'])"
   ]
  },
  {
   "cell_type": "code",
   "execution_count": 13,
   "metadata": {},
   "outputs": [
    {
     "name": "stdout",
     "output_type": "stream",
     "text": [
      "t-stat = -2.6042585933814113 The series None is not stationary with confidence level  99%\n",
      "False\n"
     ]
    }
   ],
   "source": [
    "############\n",
    "## TEST 3 ##\n",
    "############\n",
    "\n",
    "d_1, d_2 = processor.id_to_prices(cg, PORT_IDS[0], start_date, end_date), processor.id_to_prices(cg, PORT_IDS[1], start_date, end_date)\n",
    "s_1, s_2 = pd.Series(d_1), pd.Series(d_2)\n",
    "s_1.name, s_2.name = PORT_IDS[0], PORT_IDS[1]\n",
    "\n",
    "# Random two series likely should not be stationary\n",
    "coint_res = processor.is_coint(s_1, s_2)\n",
    "print(coint_res)"
   ]
  },
  {
   "cell_type": "code",
   "execution_count": 14,
   "metadata": {},
   "outputs": [],
   "source": [
    "# processor.take_mean(s_1)\n",
    "# df_feats = processor.series_to_df_feats(s_1, LOOKBACKS, plot=True)\n",
    "\n",
    "# print(processor.sharpe_ratio(df_feats[f'{s_1.name}_DR']))\n"
   ]
  }
 ],
 "metadata": {
  "interpreter": {
   "hash": "aaa6305711bb90ca340e516a5eb2466be43fc01d5a7bfd481395fbcaefa2acec"
  },
  "kernelspec": {
   "display_name": "Python 3.9.6 64-bit ('venv': venv)",
   "name": "python3"
  },
  "language_info": {
   "codemirror_mode": {
    "name": "ipython",
    "version": 3
   },
   "file_extension": ".py",
   "mimetype": "text/x-python",
   "name": "python",
   "nbconvert_exporter": "python",
   "pygments_lexer": "ipython3",
   "version": "3.9.6"
  }
 },
 "nbformat": 4,
 "nbformat_minor": 2
}
