{
 "cells": [
  {
   "cell_type": "code",
   "execution_count": 29,
   "metadata": {},
   "outputs": [
    {
     "name": "stdout",
     "output_type": "stream",
     "text": [
      "The autoreload extension is already loaded. To reload it, use:\n",
      "  %reload_ext autoreload\n"
     ]
    }
   ],
   "source": [
    "%load_ext autoreload\n",
    "%aimport processing\n",
    "%matplotlib inline"
   ]
  },
  {
   "cell_type": "code",
   "execution_count": 85,
   "metadata": {},
   "outputs": [],
   "source": [
    "%autoreload 1\n",
    "\n",
    "import pandas as pd\n",
    "import numpy as np\n",
    "\n",
    "import datetime\n",
    "from datetime import timezone\n",
    "import pytz\n",
    "import matplotlib.pyplot as plt\n",
    "from pycoingecko import CoinGeckoAPI\n",
    "\n",
    "from CGProcessor import CGProcessor\n",
    "import statsmodels.tsa.stattools as ts\n",
    "import hurst"
   ]
  },
  {
   "cell_type": "code",
   "execution_count": 31,
   "metadata": {},
   "outputs": [],
   "source": [
    "cg = CoinGeckoAPI()"
   ]
  },
  {
   "cell_type": "code",
   "execution_count": 32,
   "metadata": {},
   "outputs": [],
   "source": [
    "###############\n",
    "## CONSTANTS ##\n",
    "###############\n",
    "\n",
    "NAT_TZ = 'America/Los_Angeles'\n",
    "NAT_TZOBJ = pytz.timezone(NAT_TZ)\n",
    "\n",
    "TRG_TZOBJ = timezone.utc\n",
    "\n",
    "#PORT_IDS = [['bitcoin',5], ['bitcoin-cash',1], ['ethereum',2.22], ['litecoin',-200]]\n",
    "PORT_IDS = ['bitcoin','ethereum','litecoin','bitcoin-cash']\n",
    "\n",
    "NAT_CURR = 'usd'\n",
    "\n",
    "LOOKBACKS = [7, 14, 30]\n",
    "ROLL_WIND = LOOKBACKS[1]"
   ]
  },
  {
   "cell_type": "code",
   "execution_count": 33,
   "metadata": {},
   "outputs": [],
   "source": [
    "##################\n",
    "## LOCAL DRIVER ##\n",
    "##################\n",
    "\n",
    "start_date, end_date = (2018,9,1), (2020,9,1)\n",
    "\n",
    "processor = CGProcessor()\n",
    "\n",
    "# Create portfolio dataframe\n",
    "port_val = processor.create_portfolio(PORT_IDS, start_date, end_date)\n",
    "data = processor.data\n",
    "\n",
    "processor.normalize([], port=True)"
   ]
  },
  {
   "cell_type": "code",
   "execution_count": 34,
   "metadata": {},
   "outputs": [
    {
     "data": {
      "text/plain": [
       "1535760000000    1.000000\n",
       "1535846400000    1.034940\n",
       "1535932800000    1.050535\n",
       "1536019200000    1.041414\n",
       "1536105600000    1.053503\n",
       "                   ...   \n",
       "1598572800000    1.516318\n",
       "1598659200000    1.546338\n",
       "1598745600000    1.542080\n",
       "1598832000000    1.575485\n",
       "1598918400000    1.572076\n",
       "Length: 732, dtype: float64"
      ]
     },
     "metadata": {},
     "output_type": "display_data"
    }
   ],
   "source": [
    "display(processor.portfolio)"
   ]
  },
  {
   "cell_type": "code",
   "execution_count": 56,
   "metadata": {},
   "outputs": [
    {
     "name": "stdout",
     "output_type": "stream",
     "text": [
      "ADF Statistic: -1.11\n",
      "Critial Values:\n",
      "   1%, -3.44\n",
      "Critial Values:\n",
      "   5%, -2.87\n",
      "Critial Values:\n",
      "   10%, -2.57\n",
      "\n",
      "p-value: 0.71\n",
      "Non-Stationary\n"
     ]
    },
    {
     "data": {
      "text/plain": [
       "False"
      ]
     },
     "execution_count": 56,
     "metadata": {},
     "output_type": "execute_result"
    }
   ],
   "source": [
    "########################\n",
    "# Stationarity Testing #\n",
    "########################\n",
    "\n",
    "# tests: Augmented Dickey-Fuller, Variance Ratio, KPSS, \n",
    "\n",
    "# Unit Root tests\n",
    "def aug_df(series):\n",
    "     t_stat, pval, _,_, crit_vals,_ = ts.adfuller(series)\n",
    "     print(f'ADF Statistic: {t_stat:.2f}')\n",
    "     for key, value in crit_vals.items():\n",
    "          print('Critial Values:')\n",
    "          print(f'   {key}, {value:.2f}')\n",
    "\n",
    "     print(f'\\np-value: {pval:.2f}')\n",
    "     print(\"Non-Stationary\") if pval > 0.05 else print(\"Stationary\")\n",
    "     if pval < 0.05:\n",
    "          return True\n",
    "     return False\n",
    "\n",
    "aug_df(processor.portfolio)"
   ]
  },
  {
   "cell_type": "code",
   "execution_count": 59,
   "metadata": {},
   "outputs": [
    {
     "name": "stdout",
     "output_type": "stream",
     "text": [
      "T-Statistic: 1.83\n",
      "Critial Values:\n",
      "   10%, 0.35\n",
      "Critial Values:\n",
      "   5%, 0.46\n",
      "Critial Values:\n",
      "   2.5%, 0.57\n",
      "Critial Values:\n",
      "   1%, 0.74\n",
      "\n",
      "p-value: 0.01\n",
      "Non-Stationary\n"
     ]
    },
    {
     "name": "stderr",
     "output_type": "stream",
     "text": [
      "/home/dave/anaconda3/envs/finml/lib/python3.9/site-packages/statsmodels/tsa/stattools.py:1906: InterpolationWarning: The test statistic is outside of the range of p-values available in the\n",
      "look-up table. The actual p-value is smaller than the p-value returned.\n",
      "\n",
      "  warnings.warn(\n"
     ]
    },
    {
     "data": {
      "text/plain": [
       "True"
      ]
     },
     "execution_count": 59,
     "metadata": {},
     "output_type": "execute_result"
    }
   ],
   "source": [
    "# The KPSS test has null hypothesis of stationarity\n",
    "def kpss(series):\n",
    "     t_stat, p_value, _, critical_values = ts.kpss(series,nlags='auto')\n",
    "\n",
    "     print(f'T-Statistic: {t_stat:.2f}')\n",
    "     for key, value in critical_values.items():\n",
    "          print('Critial Values:')\n",
    "          print(f'   {key}, {value:.2f}')\n",
    "\n",
    "     print(f'\\np-value: {p_value:.2f}')\n",
    "     print(\"Stationary\") if p_value > 0.05 else print(\"Non-Stationary\")\n",
    "     return False if p_value > 0.05 else True\n",
    "\n",
    "kpss(processor.portfolio)\n"
   ]
  },
  {
   "cell_type": "markdown",
   "metadata": {},
   "source": [
    "This is an example of a non-stationary series. My goal is to see which tests can figure that out."
   ]
  },
  {
   "cell_type": "code",
   "execution_count": 80,
   "metadata": {},
   "outputs": [
    {
     "name": "stdout",
     "output_type": "stream",
     "text": [
      "[ 0  1  2  3  4  5  6  7  8  9 10 11 12 13 14 15 16 17 18 19 20 21 22 23\n",
      " 24 25 26 27 28 29 30 31 32 33 34 35 36 37 38 39 40 41 42 43 44 45 46 47\n",
      " 48 49 50 51 52 53 54 55 56 57 58 59 60 61 62 63 64 65 66 67 68 69 70 71\n",
      " 72 73 74 75 76 77 78 79 80 81 82 83 84 85 86 87 88 89 90 91 92 93 94 95\n",
      " 96 97 98 99]\n"
     ]
    },
    {
     "data": {
      "image/png": "[encoded data removed]",
      "text/plain": [
       "<Figure size 432x288 with 1 Axes>"
      ]
     },
     "metadata": {
      "needs_background": "light"
     },
     "output_type": "display_data"
    }
   ],
   "source": [
    "t = np.arange(0,100)\n",
    "print(t)\n",
    "\n",
    "y_1 = np.array([4 + np.sin(x) + np.random.uniform(-2*np.pi,2*np.pi) for x in t])\n",
    "\n",
    "plt.plot(t,y_1);"
   ]
  },
  {
   "cell_type": "code",
   "execution_count": 81,
   "metadata": {},
   "outputs": [
    {
     "name": "stdout",
     "output_type": "stream",
     "text": [
      "ADF Statistic: -6.51\n",
      "Critial Values:\n",
      "   1%, -3.50\n",
      "Critial Values:\n",
      "   5%, -2.89\n",
      "Critial Values:\n",
      "   10%, -2.58\n",
      "\n",
      "p-value: 0.00\n",
      "Stationary\n"
     ]
    },
    {
     "data": {
      "text/plain": [
       "True"
      ]
     },
     "execution_count": 81,
     "metadata": {},
     "output_type": "execute_result"
    }
   ],
   "source": [
    "aug_df(y_1)"
   ]
  },
  {
   "cell_type": "code",
   "execution_count": 82,
   "metadata": {},
   "outputs": [
    {
     "name": "stdout",
     "output_type": "stream",
     "text": [
      "T-Statistic: 0.07\n",
      "Critial Values:\n",
      "   10%, 0.35\n",
      "Critial Values:\n",
      "   5%, 0.46\n",
      "Critial Values:\n",
      "   2.5%, 0.57\n",
      "Critial Values:\n",
      "   1%, 0.74\n",
      "\n",
      "p-value: 0.10\n",
      "Stationary\n"
     ]
    },
    {
     "name": "stderr",
     "output_type": "stream",
     "text": [
      "/home/dave/anaconda3/envs/finml/lib/python3.9/site-packages/statsmodels/tsa/stattools.py:1910: InterpolationWarning: The test statistic is outside of the range of p-values available in the\n",
      "look-up table. The actual p-value is greater than the p-value returned.\n",
      "\n",
      "  warnings.warn(\n"
     ]
    },
    {
     "data": {
      "text/plain": [
       "False"
      ]
     },
     "execution_count": 82,
     "metadata": {},
     "output_type": "execute_result"
    }
   ],
   "source": [
    "kpss(y_1)"
   ]
  },
  {
   "cell_type": "code",
   "execution_count": 83,
   "metadata": {},
   "outputs": [],
   "source": []
  },
  {
   "cell_type": "code",
   "execution_count": 86,
   "metadata": {},
   "outputs": [
    {
     "name": "stdout",
     "output_type": "stream",
     "text": [
      "(0.11060673294663054, 1.5624972832276989, [[10, 17, 31, 56, 100], [1.9869385818368144, 2.1578203722704536, 2.337195609266502, 2.3955062093184503, 2.6003775313352255]])\n"
     ]
    }
   ],
   "source": [
    "print(hurst.compute_Hc(y_1))"
   ]
  },
  {
   "cell_type": "code",
   "execution_count": 78,
   "metadata": {},
   "outputs": [],
   "source": [
    "def variance_ratio(series, lag = 2):\n",
    "    \"\"\"\n",
    "    Returns the variance ratio test result\n",
    "    \"\"\"\n",
    "    # make sure we are working with an array, convert if necessary\n",
    "    ts = np.asarray(series)\n",
    "    \n",
    "    # Apply the formula to calculate the test\n",
    "    n = len(series)\n",
    "    mu  = sum(series[1:n]-series[:n-1])/n;\n",
    "    m=(n-lag+1)*(1-lag/n);\n",
    "    b=sum(np.square(series[1:n]-series[:n-1]-mu))/(n-1)\n",
    "    t=sum(np.square(series[lag:n]-series[:n-lag]-lag*mu))/m\n",
    "    return t/(lag*b);"
   ]
  },
  {
   "cell_type": "code",
   "execution_count": 79,
   "metadata": {},
   "outputs": [
    {
     "data": {
      "text/plain": [
       "0.47064041637734977"
      ]
     },
     "execution_count": 79,
     "metadata": {},
     "output_type": "execute_result"
    }
   ],
   "source": [
    "variance_ratio(y_1)    "
   ]
  },
  {
   "cell_type": "code",
   "execution_count": null,
   "metadata": {},
   "outputs": [],
   "source": [
    "def half_life(ts):  \n",
    "    \"\"\" \n",
    "    Calculates the half life of a mean reversion\n",
    "    \"\"\"\n",
    "    # make sure we are working with an array, convert if necessary\n",
    "    ts = np.asarray(ts)\n",
    "    \n",
    "    # delta = p(t) - p(t-1)\n",
    "    delta_ts = np.diff(ts)\n",
    "    \n",
    "    # calculate the vector of lagged values. lag = 1\n",
    "    lag_ts = np.vstack([ts[1:], np.ones(len(ts[1:]))]).T\n",
    "   \n",
    "    # calculate the slope of the deltas vs the lagged values \n",
    "    beta = np.linalg.lstsq(lag_ts, delta_ts)\n",
    "    \n",
    "    # compute and return half life\n",
    "    return (np.log(2) / beta[0])[0]"
   ]
  },
  {
   "cell_type": "code",
   "execution_count": null,
   "metadata": {},
   "outputs": [],
   "source": []
  }
 ],
 "metadata": {
  "interpreter": {
   "hash": "827e985310295d3d93142f23c010ded7d7eae575305703d106a09006798043ec"
  },
  "kernelspec": {
   "display_name": "Python 3.9.7 64-bit ('finml': conda)",
   "name": "python3"
  },
  "language_info": {
   "codemirror_mode": {
    "name": "ipython",
    "version": 3
   },
   "file_extension": ".py",
   "mimetype": "text/x-python",
   "name": "python",
   "nbconvert_exporter": "python",
   "pygments_lexer": "ipython3",
   "version": "3.9.7"
  },
  "orig_nbformat": 4
 },
 "nbformat": 4,
 "nbformat_minor": 2
}
