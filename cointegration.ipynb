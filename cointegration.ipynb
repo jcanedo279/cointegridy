{
 "cells": [
  {
   "cell_type": "code",
   "execution_count": 15,
   "metadata": {},
   "outputs": [],
   "source": [
    "# !pip install auquan_toolbox\n",
    "import numpy as np\n",
    "import pandas as pd\n",
    "# import backtester\n",
    "import statsmodels\n",
    "import statsmodels.api as sm\n",
    "from statsmodels.tsa.stattools import coint, adfuller\n",
    "\n",
    "import matplotlib.pyplot as plt"
   ]
  },
  {
   "cell_type": "code",
   "execution_count": 16,
   "metadata": {},
   "outputs": [],
   "source": [
    "from pycoingecko import CoinGeckoAPI\n",
    "cg = CoinGeckoAPI()"
   ]
  },
  {
   "cell_type": "code",
   "execution_count": 17,
   "metadata": {},
   "outputs": [],
   "source": [
    "coin_list = cg.get_coins_list()\n",
    "\n",
    "id_to_data = {}\n",
    "for coin_data in coin_list:\n",
    "    id_to_data[coin_data.pop('id')] = coin_data\n",
    "ids = id_to_data.keys()\n",
    "    "
   ]
  },
  {
   "cell_type": "code",
   "execution_count": 18,
   "metadata": {},
   "outputs": [],
   "source": [
    "def id_to_tmsp_seq(id, start_date, end_date):\n",
    "    start_tmsp, end_tmsp = pd.Timestamp(start_date).timestamp(), pd.Timestamp(end_date).timestamp()\n",
    "    return cg.get_coin_market_chart_range_by_id(id=id, vs_currency=NAT_CURR, from_timestamp=start_tmsp, to_timestamp=end_tmsp)['prices']\n",
    "def id_to_prices(id, start_date, end_date):\n",
    "    prices = id_to_tmsp_seq(id, start_date, end_date)\n",
    "    return np.array([price[1] for price in prices])\n"
   ]
  },
  {
   "cell_type": "code",
   "execution_count": 19,
   "metadata": {},
   "outputs": [],
   "source": [
    "# COIN_COLS = ['id', 'symbol', 'name']\n",
    "# df_coin_names = pd.DataFrame(coin_list, columns=['name'])\n",
    "\n",
    "# coin_market = cg.get_coins_markets(vs_currency=NAT_CURR)\n",
    "# df_market = pd.DataFrame(coin_market, columns=['id', 'current_price', 'high_24h', 'low_24h'])\n",
    "# df_market.set_index('id', inplace=True)\n",
    "# df_market"
   ]
  },
  {
   "cell_type": "code",
   "execution_count": 20,
   "metadata": {},
   "outputs": [],
   "source": [
    "def plot_df(df, x_label='Time', y_label='Value'):\n",
    "    plt.clf()\n",
    "    plt.figure(figsize=(15,7))\n",
    "    plt.plot(df)\n",
    "    plt.xlabel(x_label)\n",
    "    plt.ylabel(y_label)\n",
    "    plt.legend(df.columns)\n",
    "    plt.show()\n",
    "    \n",
    "\n",
    "def plot_series(series_seq, x_label='Time', y_label='Value', linestyles=None, colors=None):\n",
    "    plt.clf()\n",
    "    plt.figure(figsize=(15,7))\n",
    "    \n",
    "    if linestyles==None:\n",
    "        linestyles = ['-']*len(series_seq)\n",
    "    if colors==None:\n",
    "        colors = ['b']*len(series_seq)\n",
    "        \n",
    "    for series, linestyle, color in zip(series_seq, linestyles, colors):\n",
    "        plt.plot(series, linestyle=linestyle, color=color)\n",
    "    \n",
    "    plt.xlabel(x_label)\n",
    "    plt.ylabel(y_label)\n",
    "    plt.legend([series.name for series in series_seq])\n",
    "    plt.show()"
   ]
  },
  {
   "cell_type": "code",
   "execution_count": 21,
   "metadata": {},
   "outputs": [],
   "source": [
    "def clean_df(df, columns):\n",
    "    for column in columns:\n",
    "        df[column].fillna(method='ffill', inplace=True)\n",
    "        df[column].fillna(method='bfill', inplace=True)\n",
    "    return df"
   ]
  },
  {
   "cell_type": "code",
   "execution_count": 22,
   "metadata": {},
   "outputs": [],
   "source": [
    "\n",
    "def id_to_df(id, start_date, end_date, norm=True, plot=False):\n",
    "    market = id_to_tmsp_seq(id, start_date, end_date)\n",
    "    tmsps, prices = list(zip(*market))\n",
    "    \n",
    "    df = pd.DataFrame(index=tmsps)\n",
    "    \n",
    "    df[id] = prices\n",
    "    df.head()\n",
    "    \n",
    "    if norm:\n",
    "        df = df/df.iloc[0]\n",
    "    \n",
    "    if plot:\n",
    "        plot_df(df)\n",
    "        \n",
    "    return df\n",
    "\n",
    "# def id_to_market_df(id, start_date, end_date, norm=True, plot=False):\n",
    "    "
   ]
  },
  {
   "cell_type": "code",
   "execution_count": 23,
   "metadata": {},
   "outputs": [],
   "source": [
    "def differentiate(series):\n",
    "    series_d = series.diff()[1:]\n",
    "    series_d.name = f'{series.name}_D'\n",
    "    return series_d\n",
    "\n",
    "def integrate(series):\n",
    "    series_i = series.cumsum()\n",
    "    series_i.name = f'{series.name}_I'\n",
    "    return series_i\n",
    "\n",
    "def eval_port(df, norm=True):\n",
    "    port = df.sum(axis=1)\n",
    "    port.name = 'port_val'\n",
    "    \n",
    "    if norm:\n",
    "        port = port/port.iloc[0]\n",
    "    return port"
   ]
  },
  {
   "cell_type": "code",
   "execution_count": 24,
   "metadata": {},
   "outputs": [],
   "source": [
    "def take_mean(series, plot=True):\n",
    "    series_m = pd.Series(series.mean())\n",
    "    series_m.name = f'{series.name}_M'\n",
    "    \n",
    "    if plot:\n",
    "        plot_series([series, series_m], x_label='Time', y_label='Value', linestyles=[None, 'dashed'], colors=['b', 'r'])\n",
    "        \n",
    "    return series_m\n",
    "\n",
    "def take_roll_avg(series, window):\n",
    "    series_ma = series.rolling(window).mean()\n",
    "    series_ma.fillna(method='bfill', inplace=True)\n",
    "    series_ma.name = f'{series.name}_MA{window}'\n",
    "    return series_ma"
   ]
  },
  {
   "cell_type": "code",
   "execution_count": 25,
   "metadata": {},
   "outputs": [],
   "source": [
    "def test_stationarity(series, cutoff=0.01):\n",
    "    # We must observe significant p-value to convince ourselves that the series is stationary\n",
    "    pvalue = adfuller(series)[1]\n",
    "    if pvalue < cutoff:\n",
    "        print(f'p-value = {pvalue} The series {series.name} is likely stationary.')\n",
    "        return True\n",
    "    else:\n",
    "        print(f'p-value = {pvalue} The series {series.name} is likely non-stationary.')\n",
    "        return False"
   ]
  },
  {
   "cell_type": "code",
   "execution_count": 26,
   "metadata": {},
   "outputs": [],
   "source": [
    "def create_portfolio_from_ids(ids, start_date, end_date, norm_port=True):\n",
    "    ref_id, asset_ids = ids[0], ids[1:]\n",
    "    \n",
    "    df = id_to_df(ref_id, start_date, end_date)\n",
    "    df.columns = [ref_id]\n",
    "    \n",
    "    for asset_id in asset_ids:\n",
    "        new_df = id_to_df(asset_id, start_date, end_date)\n",
    "        new_df.columns = [asset_id]\n",
    "        df = df.join(new_df)\n",
    "        \n",
    "    df = clean_df(df, df.columns[1:])\n",
    "        \n",
    "    ## Evaluate portfolio\n",
    "    df['port_val'] = eval_port(df, norm=norm_port)\n",
    "        \n",
    "    return df\n",
    "        \n",
    "    "
   ]
  },
  {
   "cell_type": "code",
   "execution_count": 27,
   "metadata": {},
   "outputs": [],
   "source": [
    "def is_coint(series_1, series_2):\n",
    "    \n",
    "    results = sm.OLS(series_2, series_1).fit()\n",
    "    beta = results.params[series_1.name]\n",
    "\n",
    "    Z = series_2 - beta * series_1\n",
    "\n",
    "    is_stationary = test_stationarity(Z)\n",
    "    \n",
    "    if not is_stationary: return False\n",
    "    \n",
    "    if not is_stationary:\n",
    "        return False\n",
    "    else: ## cointegrate is series are not stationary\n",
    "        return coint(series_1, series_2)\n",
    "    "
   ]
  },
  {
   "cell_type": "code",
   "execution_count": 28,
   "metadata": {},
   "outputs": [],
   "source": [
    "start_date, end_date = \"2018-09-09\", \"2020-02-02\"\n",
    "\n",
    "port_ids = ['bitcoin', 'dogecoin', 'ethereum', 'bolt']\n",
    "\n",
    "\n",
    "NAT_CURR = 'usd'\n",
    "\n",
    "ROLL_WIND = 14\n",
    "\n",
    "\n",
    "## Create portfolio dataframe\n",
    "port_df = create_portfolio_from_ids(port_ids, start_date, end_date)\n"
   ]
  },
  {
   "cell_type": "code",
   "execution_count": 29,
   "metadata": {},
   "outputs": [
    {
     "name": "stdout",
     "output_type": "stream",
     "text": [
      "p-value = 0.0 The series port_val_RM_I is likely stationary.\n",
      "(-23.1573910780297, 0.0, array([-3.91800069, -3.34811327, -3.05276022]))\n"
     ]
    }
   ],
   "source": [
    "############\n",
    "## TEST 1 ##\n",
    "############\n",
    "\n",
    "## Create normalized timeseries for portfolio\n",
    "port_val = port_df['port_val']\n",
    "port_rm = take_roll_avg(port_val, ROLL_WIND)\n",
    "port_rm.name = f'{port_val.name}_RM'\n",
    "\n",
    "\n",
    "### IF a random variable is stationary THEN it is also order one integratable ###\n",
    "# if test_stationarity(port_rm):\n",
    "\n",
    "port_ret = integrate(port_rm)\n",
    "\n",
    "\n",
    "comparator = port_ret + np.random.normal(0, 5, len(port_ret))\n",
    "\n",
    "# These two series should be stationary and cointegrate\n",
    "coint_res = is_coint(port_ret, comparator)\n",
    "print(coint_res)"
   ]
  },
  {
   "cell_type": "code",
   "execution_count": 30,
   "metadata": {},
   "outputs": [
    {
     "name": "stdout",
     "output_type": "stream",
     "text": [
      "p-value = 0.15689156834571583 The series None is likely non-stationary.\n",
      "False\n"
     ]
    }
   ],
   "source": [
    "############\n",
    "## TEST 2 ##\n",
    "############\n",
    "\n",
    "col_1, col_2 = port_df.columns[:2]\n",
    "s_1, s_2 = port_df[col_1], port_df[col_2]\n",
    "\n",
    "# Random two series likely should not be stationary\n",
    "coint_res = is_coint(s_1, s_2)\n",
    "print(coint_res)"
   ]
  },
  {
   "cell_type": "code",
   "execution_count": 31,
   "metadata": {},
   "outputs": [
    {
     "data": {
      "text/plain": [
       "<Figure size 432x288 with 0 Axes>"
      ]
     },
     "metadata": {},
     "output_type": "display_data"
    },
    {
     "data": {
      "image/png": "[encoded data removed]",
      "text/plain": [
       "<Figure size 1080x504 with 1 Axes>"
      ]
     },
     "metadata": {
      "needs_background": "light"
     },
     "output_type": "display_data"
    },
    {
     "data": {
      "text/plain": [
       "0    0.7987\n",
       "Name: port_val_M, dtype: float64"
      ]
     },
     "execution_count": 31,
     "metadata": {},
     "output_type": "execute_result"
    }
   ],
   "source": [
    "take_mean(port_val)"
   ]
  }
 ],
 "metadata": {
  "interpreter": {
   "hash": "aaa6305711bb90ca340e516a5eb2466be43fc01d5a7bfd481395fbcaefa2acec"
  },
  "kernelspec": {
   "display_name": "Python 3.9.6 64-bit ('venv': venv)",
   "name": "python3"
  },
  "language_info": {
   "codemirror_mode": {
    "name": "ipython",
    "version": 3
   },
   "file_extension": ".py",
   "mimetype": "text/x-python",
   "name": "python",
   "nbconvert_exporter": "python",
   "pygments_lexer": "ipython3",
   "version": "3.9.6"
  },
  "orig_nbformat": 4
 },
 "nbformat": 4,
 "nbformat_minor": 2
}
