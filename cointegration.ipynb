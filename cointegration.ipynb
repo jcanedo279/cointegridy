{
 "cells": [
  {
   "cell_type": "code",
   "execution_count": 10,
   "metadata": {},
   "outputs": [
    {
     "name": "stdout",
     "output_type": "stream",
     "text": [
      "The autoreload extension is already loaded. To reload it, use:\n",
      "  %reload_ext autoreload\n"
     ]
    }
   ],
   "source": [
    "%load_ext autoreload\n",
    "%aimport processing"
   ]
  },
  {
   "cell_type": "code",
   "execution_count": 24,
   "metadata": {},
   "outputs": [],
   "source": [
    "%autoreload 1\n",
    "\n",
    "import pandas as pd\n",
    "import numpy as np\n",
    "\n",
    "import datetime\n",
    "from datetime import timezone\n",
    "import pytz\n",
    "\n",
    "from pycoingecko import CoinGeckoAPI\n",
    "\n",
    "from processing import Processor"
   ]
  },
  {
   "cell_type": "code",
   "execution_count": 12,
   "metadata": {},
   "outputs": [],
   "source": [
    "cg = CoinGeckoAPI()"
   ]
  },
  {
   "cell_type": "code",
   "execution_count": 13,
   "metadata": {},
   "outputs": [],
   "source": [
    "# coin_list = cg.get_coins_list()\n",
    "\n",
    "# ids = [coin_data['id'] for coin_data in coin_list]\n",
    "\n",
    "# id_to_data = {}\n",
    "# for coin_data in coin_list:\n",
    "#     id_to_data[coin_data.pop('id')] = coin_data\n",
    "# ids = id_to_data.keys()"
   ]
  },
  {
   "cell_type": "code",
   "execution_count": 14,
   "metadata": {},
   "outputs": [],
   "source": [
    "# COIN_COLS = ['id', 'symbol', 'name']\n",
    "# df_coin_names = pd.DataFrame(coin_list, columns=['name'])\n",
    "\n",
    "# coin_market = cg.get_coins_markets(vs_currency=NAT_CURR)\n",
    "# df_market = pd.DataFrame(coin_market, columns=['id', 'current_price', 'high_24h', 'low_24h'])\n",
    "# df_market.set_index('id', inplace=True)"
   ]
  },
  {
   "cell_type": "code",
   "execution_count": 92,
   "metadata": {},
   "outputs": [],
   "source": [
    "###############\n",
    "## CONSTANTS ##\n",
    "###############\n",
    "\n",
    "NAT_TZ = 'America/Los_Angeles'\n",
    "NAT_TZOBJ = pytz.timezone(NAT_TZ)\n",
    "\n",
    "TRG_TZOBJ = timezone.utc\n",
    "\n",
    "PORT_IDS = ['bitcoin', 'bitcoin-cash', 'ethereum', 'litecoin']\n",
    "\n",
    "NAT_CURR = 'usd'\n",
    "\n",
    "ROLL_WIND = 14\n",
    "LOOKBACKS = [7, 14, 30]"
   ]
  },
  {
   "cell_type": "code",
   "execution_count": 93,
   "metadata": {},
   "outputs": [],
   "source": [
    "##################\n",
    "## LOCAL DRIVER ##\n",
    "##################\n",
    "\n",
    "start_date, end_date = (2018,9,1), (2020,9,1)\n",
    "\n",
    "processor = Processor()\n",
    "\n",
    "# Create portfolio dataframe\n",
    "port_val = processor.create_portfolio(cg, PORT_IDS, start_date, end_date)\n",
    "data = processor.data\n",
    "\n",
    "processor.normalize([], port=True)"
   ]
  },
  {
   "cell_type": "code",
   "execution_count": 94,
   "metadata": {},
   "outputs": [
    {
     "data": {
      "text/html": [
       "<div>\n",
       "<style scoped>\n",
       "    .dataframe tbody tr th:only-of-type {\n",
       "        vertical-align: middle;\n",
       "    }\n",
       "\n",
       "    .dataframe tbody tr th {\n",
       "        vertical-align: top;\n",
       "    }\n",
       "\n",
       "    .dataframe thead th {\n",
       "        text-align: right;\n",
       "    }\n",
       "</style>\n",
       "<table border=\"1\" class=\"dataframe\">\n",
       "  <thead>\n",
       "    <tr style=\"text-align: right;\">\n",
       "      <th></th>\n",
       "      <th>bitcoin</th>\n",
       "      <th>bitcoin-cash</th>\n",
       "      <th>ethereum</th>\n",
       "      <th>litecoin</th>\n",
       "    </tr>\n",
       "  </thead>\n",
       "  <tbody>\n",
       "    <tr>\n",
       "      <th>1535760000000</th>\n",
       "      <td>7027.631279</td>\n",
       "      <td>543.434677</td>\n",
       "      <td>282.223179</td>\n",
       "      <td>62.052262</td>\n",
       "    </tr>\n",
       "    <tr>\n",
       "      <th>1535846400000</th>\n",
       "      <td>7211.270768</td>\n",
       "      <td>618.518626</td>\n",
       "      <td>295.646162</td>\n",
       "      <td>66.466811</td>\n",
       "    </tr>\n",
       "    <tr>\n",
       "      <th>1535932800000</th>\n",
       "      <td>7305.272801</td>\n",
       "      <td>649.278293</td>\n",
       "      <td>294.585688</td>\n",
       "      <td>66.208480</td>\n",
       "    </tr>\n",
       "    <tr>\n",
       "      <th>1536019200000</th>\n",
       "      <td>7260.897517</td>\n",
       "      <td>628.023667</td>\n",
       "      <td>288.852826</td>\n",
       "      <td>65.375997</td>\n",
       "    </tr>\n",
       "    <tr>\n",
       "      <th>1536105600000</th>\n",
       "      <td>7359.462993</td>\n",
       "      <td>626.230974</td>\n",
       "      <td>285.485757</td>\n",
       "      <td>67.655937</td>\n",
       "    </tr>\n",
       "    <tr>\n",
       "      <th>...</th>\n",
       "      <td>...</td>\n",
       "      <td>...</td>\n",
       "      <td>...</td>\n",
       "      <td>...</td>\n",
       "    </tr>\n",
       "    <tr>\n",
       "      <th>1598572800000</th>\n",
       "      <td>11300.398364</td>\n",
       "      <td>263.983814</td>\n",
       "      <td>381.837651</td>\n",
       "      <td>55.958029</td>\n",
       "    </tr>\n",
       "    <tr>\n",
       "      <th>1598659200000</th>\n",
       "      <td>11519.118388</td>\n",
       "      <td>268.346874</td>\n",
       "      <td>395.138213</td>\n",
       "      <td>57.191844</td>\n",
       "    </tr>\n",
       "    <tr>\n",
       "      <th>1598745600000</th>\n",
       "      <td>11481.481823</td>\n",
       "      <td>268.156612</td>\n",
       "      <td>399.374544</td>\n",
       "      <td>57.075600</td>\n",
       "    </tr>\n",
       "    <tr>\n",
       "      <th>1598832000000</th>\n",
       "      <td>11701.004009</td>\n",
       "      <td>278.464590</td>\n",
       "      <td>428.295679</td>\n",
       "      <td>62.738516</td>\n",
       "    </tr>\n",
       "    <tr>\n",
       "      <th>1598918400000</th>\n",
       "      <td>11672.324105</td>\n",
       "      <td>274.543030</td>\n",
       "      <td>435.693023</td>\n",
       "      <td>60.955525</td>\n",
       "    </tr>\n",
       "  </tbody>\n",
       "</table>\n",
       "<p>732 rows × 4 columns</p>\n",
       "</div>"
      ],
      "text/plain": [
       "                    bitcoin  bitcoin-cash    ethereum   litecoin\n",
       "1535760000000   7027.631279    543.434677  282.223179  62.052262\n",
       "1535846400000   7211.270768    618.518626  295.646162  66.466811\n",
       "1535932800000   7305.272801    649.278293  294.585688  66.208480\n",
       "1536019200000   7260.897517    628.023667  288.852826  65.375997\n",
       "1536105600000   7359.462993    626.230974  285.485757  67.655937\n",
       "...                     ...           ...         ...        ...\n",
       "1598572800000  11300.398364    263.983814  381.837651  55.958029\n",
       "1598659200000  11519.118388    268.346874  395.138213  57.191844\n",
       "1598745600000  11481.481823    268.156612  399.374544  57.075600\n",
       "1598832000000  11701.004009    278.464590  428.295679  62.738516\n",
       "1598918400000  11672.324105    274.543030  435.693023  60.955525\n",
       "\n",
       "[732 rows x 4 columns]"
      ]
     },
     "metadata": {},
     "output_type": "display_data"
    }
   ],
   "source": [
    "display(data)"
   ]
  },
  {
   "cell_type": "code",
   "execution_count": 95,
   "metadata": {},
   "outputs": [
    {
     "data": {
      "text/plain": [
       "<Figure size 432x288 with 0 Axes>"
      ]
     },
     "metadata": {},
     "output_type": "display_data"
    },
    {
     "data": {
      "image/png": "[encoded data removed]",
      "text/plain": [
       "<Figure size 1080x504 with 1 Axes>"
      ]
     },
     "metadata": {},
     "output_type": "display_data"
    },
    {
     "name": "stdout",
     "output_type": "stream",
     "text": [
      "t-stat = -10.36535966557335: The series port_val_RM_I is stationary with confidence level  99%\n",
      "(-10.365871577841402, 3.0028228171110685e-17, array([-3.91148482, -3.34450132, -3.05025701]))\n"
     ]
    }
   ],
   "source": [
    "############\n",
    "## TEST 1 ##\n",
    "############\n",
    "\n",
    "# Create normalized timeseries for portfolio\n",
    "port_rm = processor.take_roll_avg(ROLL_WIND)\n",
    "port_rm.name = f'{port_val.name}_RM'\n",
    "\n",
    "\n",
    "# IF a random variable is stationary THEN it is also order one integratable #\n",
    "\n",
    "port_ret = processor.integrate(port_rm)\n",
    "\n",
    "comparator = port_ret + np.random.normal(0, 5, len(port_ret))\n",
    "\n",
    "# These two series should be stationary and cointegrate\n",
    "coint_res = processor.is_coint(port_ret, comparator)\n",
    "print(coint_res)"
   ]
  },
  {
   "cell_type": "markdown",
   "metadata": {},
   "source": [
    "### Testing cointegration of crypto basket\n",
    "Test cointegration of coin basket: {coins} = {c_1,...,c_n}\n",
    "ie. Check that the set {coins} is cointegrated using Engle-Granger two-step test\n",
    "This means there is some STATIONARY linear combination of {coins}\n",
    "\n",
    "<ol>\n",
    "    <li>Check that c_i is non-stationary and order-1 integrable</li>\n",
    "    <li>Using Multivariate Linear Regression, find coef_ for Linear Combination of {coins}</li>\n",
    "    <li>Check that the linear regression RESIDUAL is stationary using Augmented Dickey-Fuller test</li>\n",
    "</ol>\n",
    "\n",
    "Then, {coins} is cointegrated\n",
    "\n",
    "#### Concerns\n",
    "<ul>\n",
    "    <li>Should we normalize data before running our regression?</li>\n",
    "</ul>\n",
    "\n",
    "#### Conclusions\n",
    "<ul>\n",
    "    <li>OLS and Linear Regression yield the same coefficients</li>\n",
    "    <li>While we usually assume stock data is I(1), it sometimes isn't (eg. Litecoin, BTC-Cash)</li>\n",
    "    <li>As of now, we have not found a regression that makes th residuals stationay (ie. not cointegrated)</li>\n",
    "    <li>Normalization might help us find a regression line that does cointegrate the portfolio</li>\n",
    "    <li>We should run this test on different coins in different sized baskets.</li>\n",
    "</ul>"
   ]
  },
  {
   "cell_type": "code",
   "execution_count": 136,
   "metadata": {
    "scrolled": false
   },
   "outputs": [
    {
     "name": "stdout",
     "output_type": "stream",
     "text": [
      "Verifying coin price stationarity...\n",
      "t-stat = -1.0677438120387919 The series bitcoin is not stationary with confidence level  99%\n",
      "t-stat = -29.393023446775963: The series bitcoin_D is stationary with confidence level  99%\n",
      "t-stat = -3.5550256014355104: The series bitcoin-cash is stationary with confidence level  99%\n",
      "t-stat = -12.204901127793267: The series bitcoin-cash_D is stationary with confidence level  99%\n",
      "t-stat = -0.8155659195808184 The series ethereum is not stationary with confidence level  99%\n",
      "t-stat = -5.777923492084548: The series ethereum_D is stationary with confidence level  99%\n",
      "t-stat = -2.0640409620482507 The series litecoin is not stationary with confidence level  99%\n",
      "t-stat = -5.468682330640807: The series litecoin_D is stationary with confidence level  99%\n",
      "[True, False, True, True]\n",
      "Normalizing...\n",
      "t-stat = -1.439085844586164 The series Residuals is not stationary with confidence level  95%\n"
     ]
    },
    {
     "data": {
      "text/html": [
       "<table class=\"simpletable\">\n",
       "<caption>OLS Regression Results</caption>\n",
       "<tr>\n",
       "  <th>Dep. Variable:</th>         <td>bitcoin</td>     <th>  R-squared:         </th> <td>   0.587</td> \n",
       "</tr>\n",
       "<tr>\n",
       "  <th>Model:</th>                   <td>OLS</td>       <th>  Adj. R-squared:    </th> <td>   0.585</td> \n",
       "</tr>\n",
       "<tr>\n",
       "  <th>Method:</th>             <td>Least Squares</td>  <th>  F-statistic:       </th> <td>   345.0</td> \n",
       "</tr>\n",
       "<tr>\n",
       "  <th>Date:</th>             <td>Mon, 01 Nov 2021</td> <th>  Prob (F-statistic):</th> <td>2.53e-139</td>\n",
       "</tr>\n",
       "<tr>\n",
       "  <th>Time:</th>                 <td>02:41:08</td>     <th>  Log-Likelihood:    </th> <td> -6426.4</td> \n",
       "</tr>\n",
       "<tr>\n",
       "  <th>No. Observations:</th>      <td>   732</td>      <th>  AIC:               </th> <td>1.286e+04</td>\n",
       "</tr>\n",
       "<tr>\n",
       "  <th>Df Residuals:</th>          <td>   728</td>      <th>  BIC:               </th> <td>1.288e+04</td>\n",
       "</tr>\n",
       "<tr>\n",
       "  <th>Df Model:</th>              <td>     3</td>      <th>                     </th>     <td> </td>    \n",
       "</tr>\n",
       "<tr>\n",
       "  <th>Covariance Type:</th>      <td>nonrobust</td>    <th>                     </th>     <td> </td>    \n",
       "</tr>\n",
       "</table>\n",
       "<table class=\"simpletable\">\n",
       "<tr>\n",
       "        <td></td>          <th>coef</th>     <th>std err</th>      <th>t</th>      <th>P>|t|</th>  <th>[0.025</th>    <th>0.975]</th>  \n",
       "</tr>\n",
       "<tr>\n",
       "  <th>const</th>        <td> 1822.8410</td> <td>  199.554</td> <td>    9.135</td> <td> 0.000</td> <td> 1431.070</td> <td> 2214.612</td>\n",
       "</tr>\n",
       "<tr>\n",
       "  <th>bitcoin-cash</th> <td>   -1.2194</td> <td>    0.691</td> <td>   -1.766</td> <td> 0.078</td> <td>   -2.575</td> <td>    0.136</td>\n",
       "</tr>\n",
       "<tr>\n",
       "  <th>ethereum</th>     <td>   25.8372</td> <td>    1.082</td> <td>   23.888</td> <td> 0.000</td> <td>   23.714</td> <td>   27.961</td>\n",
       "</tr>\n",
       "<tr>\n",
       "  <th>litecoin</th>     <td>   17.6941</td> <td>    3.134</td> <td>    5.645</td> <td> 0.000</td> <td>   11.541</td> <td>   23.848</td>\n",
       "</tr>\n",
       "</table>\n",
       "<table class=\"simpletable\">\n",
       "<tr>\n",
       "  <th>Omnibus:</th>       <td>953.188</td> <th>  Durbin-Watson:     </th> <td>   0.014</td>\n",
       "</tr>\n",
       "<tr>\n",
       "  <th>Prob(Omnibus):</th> <td> 0.000</td>  <th>  Jarque-Bera (JB):  </th> <td>  50.131</td>\n",
       "</tr>\n",
       "<tr>\n",
       "  <th>Skew:</th>          <td> 0.087</td>  <th>  Prob(JB):          </th> <td>1.30e-11</td>\n",
       "</tr>\n",
       "<tr>\n",
       "  <th>Kurtosis:</th>      <td> 1.730</td>  <th>  Cond. No.          </th> <td>1.26e+03</td>\n",
       "</tr>\n",
       "</table><br/><br/>Warnings:<br/>[1] Standard Errors assume that the covariance matrix of the errors is correctly specified.<br/>[2] The condition number is large, 1.26e+03. This might indicate that there are<br/>strong multicollinearity or other numerical problems."
      ],
      "text/plain": [
       "<class 'statsmodels.iolib.summary.Summary'>\n",
       "\"\"\"\n",
       "                            OLS Regression Results                            \n",
       "==============================================================================\n",
       "Dep. Variable:                bitcoin   R-squared:                       0.587\n",
       "Model:                            OLS   Adj. R-squared:                  0.585\n",
       "Method:                 Least Squares   F-statistic:                     345.0\n",
       "Date:                Mon, 01 Nov 2021   Prob (F-statistic):          2.53e-139\n",
       "Time:                        02:41:08   Log-Likelihood:                -6426.4\n",
       "No. Observations:                 732   AIC:                         1.286e+04\n",
       "Df Residuals:                     728   BIC:                         1.288e+04\n",
       "Df Model:                           3                                         \n",
       "Covariance Type:            nonrobust                                         \n",
       "================================================================================\n",
       "                   coef    std err          t      P>|t|      [0.025      0.975]\n",
       "--------------------------------------------------------------------------------\n",
       "const         1822.8410    199.554      9.135      0.000    1431.070    2214.612\n",
       "bitcoin-cash    -1.2194      0.691     -1.766      0.078      -2.575       0.136\n",
       "ethereum        25.8372      1.082     23.888      0.000      23.714      27.961\n",
       "litecoin        17.6941      3.134      5.645      0.000      11.541      23.848\n",
       "==============================================================================\n",
       "Omnibus:                      953.188   Durbin-Watson:                   0.014\n",
       "Prob(Omnibus):                  0.000   Jarque-Bera (JB):               50.131\n",
       "Skew:                           0.087   Prob(JB):                     1.30e-11\n",
       "Kurtosis:                       1.730   Cond. No.                     1.26e+03\n",
       "==============================================================================\n",
       "\n",
       "Warnings:\n",
       "[1] Standard Errors assume that the covariance matrix of the errors is correctly specified.\n",
       "[2] The condition number is large, 1.26e+03. This might indicate that there are\n",
       "strong multicollinearity or other numerical problems.\n",
       "\"\"\""
      ]
     },
     "metadata": {},
     "output_type": "display_data"
    },
    {
     "name": "stdout",
     "output_type": "stream",
     "text": [
      "t-stat = -1.439085844586165 The series None is not stationary with confidence level  95%\n"
     ]
    }
   ],
   "source": [
    "############\n",
    "## TEST 2 ##\n",
    "############\n",
    "\n",
    "from sklearn.linear_model import LinearRegression\n",
    "from sklearn.preprocessing import MinMaxScaler\n",
    "import statsmodels.api as sm\n",
    "\n",
    "print(\"Verifying coin price stationarity...\")\n",
    "stationarity = []\n",
    "for coin in data:\n",
    "    coin_stationarity = processor.test_stationarity(data[coin])\n",
    "    coin_prime = processor.differentiate(data[coin])\n",
    "    coin_prime_stationarity = processor.test_stationarity(coin_prime)\n",
    "    stationarity.append(not coin_stationarity & coin_prime_stationarity)\n",
    "print(stationarity) # BITCOIN CASH IS NOT ORDER 1 INTEGRABLE\n",
    "\n",
    "lm = LinearRegression(copy_X=True)\n",
    "X = data.drop(['bitcoin'], axis=1)\n",
    "y = data['bitcoin']\n",
    "\n",
    "print(\"Normalizing...\")\n",
    "scaler = MinMaxScaler()\n",
    "scaler.fit(X, y)\n",
    "X_scaled = scaler.transform(X) # TODO: Finish normalization\n",
    "\n",
    "lm.fit(X, y)\n",
    "coef = lm.coef_\n",
    "constant = lm.intercept_\n",
    "\n",
    "residuals = y - X.multiply(coef).sum(axis=1) - constant\n",
    "residuals.name = 'Residuals'\n",
    "\n",
    "is_stationary = processor.test_stationarity(residuals, pct='5%')\n",
    "\n",
    "# USING OLS INSTEAD\n",
    "\n",
    "X = sm.add_constant(X)\n",
    "est = sm.OLS(y, X).fit()\n",
    "display(est.summary())\n",
    "\n",
    "coef_ols = est.params.values\n",
    "residuals = y - X.multiply(coef_ols).sum(axis=1)\n",
    "is_stationary = processor.test_stationarity(residuals, pct='5%')"
   ]
  },
  {
   "cell_type": "code",
   "execution_count": 137,
   "metadata": {},
   "outputs": [
    {
     "data": {
      "text/plain": [
       "[<matplotlib.lines.Line2D at 0x7ff726091470>]"
      ]
     },
     "execution_count": 137,
     "metadata": {},
     "output_type": "execute_result"
    },
    {
     "data": {
      "image/png": "[encoded data removed]",
      "text/plain": [
       "<Figure size 432x288 with 1 Axes>"
      ]
     },
     "metadata": {},
     "output_type": "display_data"
    }
   ],
   "source": [
    "import matplotlib.pyplot as plt\n",
    "plt.plot(residuals)"
   ]
  },
  {
   "cell_type": "code",
   "execution_count": null,
   "metadata": {},
   "outputs": [],
   "source": [
    "############\n",
    "## TEST 3 ##\n",
    "############\n",
    "\n",
    "col_1, col_2 = port_df.columns[:2]\n",
    "s_1, s_2 = port_df[col_1], port_df[col_2]\n",
    "\n",
    "# Random two series likely should not be stationary\n",
    "coint_res = is_coint(s_1, s_2)\n",
    "print(coint_res)"
   ]
  },
  {
   "cell_type": "code",
   "execution_count": null,
   "metadata": {},
   "outputs": [],
   "source": [
    "take_mean(port_val)\n",
    "df_feats = series_to_df_feats(port_val, LOOKBACKS, plot=True)\n",
    "\n",
    "print(sharpe_ratio(df_feats['port_val_DR']))\n"
   ]
  }
 ],
 "metadata": {
  "interpreter": {
   "hash": "aaa6305711bb90ca340e516a5eb2466be43fc01d5a7bfd481395fbcaefa2acec"
  },
  "kernelspec": {
   "display_name": "Python 3",
   "language": "python",
   "name": "python3"
  }
 },
 "nbformat": 4,
 "nbformat_minor": 2
}
